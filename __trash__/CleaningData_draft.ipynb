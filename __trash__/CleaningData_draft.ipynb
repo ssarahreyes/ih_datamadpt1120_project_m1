{
 "cells": [
  {
   "cell_type": "code",
   "execution_count": null,
   "metadata": {},
   "outputs": [],
   "source": [
    "import pandas as pd\n",
    "from sqlalchemy import create_engine\n",
    "from functools import reduce\n",
    "import re"
   ]
  },
  {
   "cell_type": "code",
   "execution_count": null,
   "metadata": {},
   "outputs": [],
   "source": [
    "def get_tables(path):\n",
    "    \"\"\"\"\n",
    "    :param: path of the data base\n",
    "    :return: data frame with all the data, united by 'uuid'.\n",
    "    \"\"\"\n",
    "    engine = create_engine(f'sqlite:///{path}')\n",
    "    df_personal_info = pd.read_sql(\"SELECT * FROM personal_info\", engine)\n",
    "    df_country_info = pd.read_sql(\"SELECT * FROM country_info\", engine)\n",
    "    df_career_info = pd.read_sql(\"SELECT * FROM career_info\", engine)\n",
    "    df_poll_info = pd.read_sql(\"SELECT * FROM poll_info\", engine)\n",
    "\n",
    "    # getting the complete data frame\n",
    "    dfs_list = [df_personal_info, df_country_info, df_career_info, df_poll_info]\n",
    "    df_info = reduce(lambda left, right: pd.merge(left, right, on='uuid'), dfs_list)\n",
    "\n",
    "    # exporting the data frame to processed data folder.\n",
    "    #df_info.to_csv(f'../../data/processed/info_dataframe.csv', index=True)\n",
    "\n",
    "    return df_info"
   ]
  },
  {
   "cell_type": "code",
   "execution_count": null,
   "metadata": {},
   "outputs": [],
   "source": [
    "get_tables('../data/raw/raw_data_project_m1.db')"
   ]
  },
  {
   "cell_type": "code",
   "execution_count": null,
   "metadata": {},
   "outputs": [],
   "source": []
  },
  {
   "cell_type": "code",
   "execution_count": null,
   "metadata": {},
   "outputs": [],
   "source": [
    "path = '../data/raw/raw_data_project_m1.db'\n",
    "engine = create_engine(f'sqlite:///{path}')\n",
    "df_personal_info = pd.read_sql(\"SELECT * FROM personal_info\", engine)\n",
    "df_country_info = pd.read_sql(\"SELECT * FROM country_info\", engine)\n",
    "df_career_info = pd.read_sql(\"SELECT * FROM career_info\", engine)\n",
    "df_poll_info = pd.read_sql(\"SELECT * FROM poll_info\", engine)\n",
    "\n",
    "# getting the complete data frame\n",
    "dfs_list = [df_personal_info, df_country_info, df_career_info, df_poll_info]\n",
    "df_complete = reduce(lambda left, right: pd.merge(left, right, on='uuid'), dfs_list)\n",
    "\n",
    "# exporting the data frame to processed data folder.\n",
    "#df_complete.to_csv(f'./data/processed/complete_dataframe.csv', index=True)\n",
    "df_complete"
   ]
  },
  {
   "cell_type": "code",
   "execution_count": null,
   "metadata": {},
   "outputs": [],
   "source": [
    "# cleaning personal_info gender column.\n",
    "df_complete['gender'] = df_complete['gender'].astype(\"string\").str.capitalize()\n",
    "df_complete['gender'] = df_complete['gender'].replace('Fem', 'Female')"
   ]
  },
  {
   "cell_type": "code",
   "execution_count": null,
   "metadata": {},
   "outputs": [],
   "source": [
    "# cleaning personal_info age_group column.\n",
    "df_complete['age_group'] = df_complete['age_group'].replace('juvenile', '14_25')"
   ]
  },
  {
   "cell_type": "code",
   "execution_count": null,
   "metadata": {},
   "outputs": [],
   "source": [
    "# cleaning personal_info age column.\n",
    "df_complete['age'] = df_complete['age'].astype(\"string\")\n",
    "df_complete['age'] = df_complete['age'].str.replace(' years old', '')\n",
    "\n",
    "for x in range(1980, 2050):\n",
    "    df_complete['age'] = df_complete['age'].str.replace(f'{x}', f'{2016 - x}')\n",
    "\n",
    "df_complete['age'] = df_complete['age'].astype('int64')"
   ]
  },
  {
   "cell_type": "code",
   "execution_count": null,
   "metadata": {},
   "outputs": [],
   "source": [
    "df_complete"
   ]
  },
  {
   "cell_type": "code",
   "execution_count": null,
   "metadata": {},
   "outputs": [],
   "source": [
    "#Hacemos filtro para ver mejor los elemntos correspondientes a 'juvenile'. Max y min pertenecen al bin 14-25, \n",
    "#porque 2016-1991 = 25 y 2016-2002=14, por lo que entendemos que todos pertecen a la msima categoría.\n",
    "#juvenile_filter = df_personal_info['age_group'].str.contains(\"juvenile\")\n",
    "#print(df_personal_info[juvenile_filter].max())\n",
    "#print(df_personal_info[juvenile_filter].min())"
   ]
  },
  {
   "cell_type": "code",
   "execution_count": null,
   "metadata": {},
   "outputs": [],
   "source": [
    "# cleaning country_info rural column.\n",
    "df_complete['rural'] = df_complete['rural'].str.lower()"
   ]
  },
  {
   "cell_type": "code",
   "execution_count": null,
   "metadata": {},
   "outputs": [],
   "source": [
    "# cleaning career_info dem_education_level column.\n",
    "df_complete['dem_education_level'] = df_complete['dem_education_level'].replace('no', 'no education')\n",
    "df_complete['dem_education_level'] = df_complete['dem_education_level'].fillna('no education')"
   ]
  },
  {
   "cell_type": "code",
   "execution_count": null,
   "metadata": {},
   "outputs": [],
   "source": [
    "# cleaning career_info dem_education_level column.\n",
    "df_complete['dem_education_level'] = df_complete['dem_education_level'].replace('no', 'no education')\n",
    "df_complete['dem_education_level'] = df_complete['dem_education_level'].fillna('no education')"
   ]
  },
  {
   "cell_type": "code",
   "execution_count": null,
   "metadata": {},
   "outputs": [],
   "source": [
    "# cleaning def_has_chidren\n",
    "df_complete['dem_has_children'] = df_complete['dem_has_children'].str.lower()\n",
    "df_complete.head()"
   ]
  },
  {
   "cell_type": "code",
   "execution_count": null,
   "metadata": {},
   "outputs": [],
   "source": [
    "#connecting API\n",
    "import json\n",
    "import requests"
   ]
  },
  {
   "cell_type": "code",
   "execution_count": null,
   "metadata": {},
   "outputs": [],
   "source": [
    "response = requests.get(f'http://api.dataatwork.org/v1/jobs') #ESTO NO LO HE PUESTO EN PIPELINE\n",
    "json_data = response.json()\n",
    "#problema: solo me salen 20"
   ]
  },
  {
   "cell_type": "code",
   "execution_count": null,
   "metadata": {},
   "outputs": [],
   "source": [
    "#response = requests.get('http://api.dataatwork.org/v1/jobs/uuid')\n",
    "#results = response.json()\n",
    "#print(len(results))\n",
    "#solo saca 21 pero necesito más. lo que vamos a hacer es que nos saque los datos \n",
    "# para cada uuid, para eso necesitamos saber cuántos uuids hay."
   ]
  },
  {
   "cell_type": "code",
   "execution_count": null,
   "metadata": {},
   "outputs": [],
   "source": [
    "job_code_unique = df_complete['normalized_job_code'].unique()\n",
    "#len(job_code_unique)"
   ]
  },
  {
   "cell_type": "code",
   "execution_count": null,
   "metadata": {},
   "outputs": [],
   "source": [
    "list_uuid_key = []\n",
    "list_title_value = []\n",
    "\n",
    "for code in job_code_unique:\n",
    "    response = requests.get(f'http://api.dataatwork.org/v1/jobs/{code}').json()\n",
    "    if list(response.keys())[0] == 'error':\n",
    "        pass\n",
    "    else:\n",
    "        list_uuid_key.append(response['uuid'])\n",
    "        list_title_value.append(response['title'])"
   ]
  },
  {
   "cell_type": "code",
   "execution_count": null,
   "metadata": {},
   "outputs": [],
   "source": [
    "dict_uuid_jobs_title = dict(zip(list_uuid_key , list_title_value))"
   ]
  },
  {
   "cell_type": "code",
   "execution_count": null,
   "metadata": {},
   "outputs": [],
   "source": [
    "df_complete['Job Title'] = df_complete['normalized_job_code']\n",
    "\n",
    "for uuid, title in dict_uuid_jobs_title.items():\n",
    "    df_complete.loc[df_complete['normalized_job_code'] == uuid , 'Job Title'] = title"
   ]
  },
  {
   "cell_type": "code",
   "execution_count": null,
   "metadata": {},
   "outputs": [],
   "source": [
    "df_complete"
   ]
  },
  {
   "cell_type": "markdown",
   "metadata": {},
   "source": [
    "Web scraping"
   ]
  },
  {
   "cell_type": "code",
   "execution_count": null,
   "metadata": {},
   "outputs": [],
   "source": [
    "import requests\n",
    "from bs4 import BeautifulSoup"
   ]
  },
  {
   "cell_type": "code",
   "execution_count": null,
   "metadata": {},
   "outputs": [],
   "source": [
    "url = 'https://ec.europa.eu/eurostat/statistics-explained/index.php/Glossary:Country_codes'\n",
    "html = requests.get(url).content\n",
    "soup = BeautifulSoup(html, 'html.parser')"
   ]
  },
  {
   "cell_type": "code",
   "execution_count": null,
   "metadata": {},
   "outputs": [],
   "source": [
    "table = soup.find_all('div' , {'class': 'mw-content-ltr'})[0]\n",
    "table_countries = table.find_all('table')\n",
    "all_info_countries = [info.text for info in table_countries]"
   ]
  },
  {
   "cell_type": "code",
   "execution_count": null,
   "metadata": {},
   "outputs": [],
   "source": [
    "# cleaning the info countries.\n",
    "countries_without_spaces = [re.sub(r'\\s' , '' , x) for x in all_info_countries]\n",
    "countries_without_symbols = [re.sub(r'\\*' , '' , x) for x in countries_without_spaces]\n",
    "countries_without_squarebrackets = [re.sub(r'\\[\\d\\]' , '' , x) for x in countries_without_symbols]\n",
    "countries_clean = ''.join(countries_without_squarebrackets) #unimos todo en una string para poder hacer split"
   ]
  },
  {
   "cell_type": "code",
   "execution_count": null,
   "metadata": {},
   "outputs": [],
   "source": [
    "country_value = re.split(r'\\(\\w{0,7}\\)' , countries_clean)\n",
    "country_key = re.findall(r'\\(\\w{0,7}\\)' , countries_clean) #extract the codes\n",
    "country_key = [re.sub(r'\\(|\\)' , '' , x) for x in country_key] #without parenthesis.\n",
    "dic_countries = dict(zip(country_key, country_value))"
   ]
  },
  {
   "cell_type": "code",
   "execution_count": null,
   "metadata": {},
   "outputs": [],
   "source": [
    "df_complete['Country'] = df_complete['country_code']\n",
    "\n",
    "for code, name in dic_countries.items():\n",
    "    df_complete.loc[df_complete['country_code'] == code , 'Country'] = name"
   ]
  },
  {
   "cell_type": "code",
   "execution_count": null,
   "metadata": {},
   "outputs": [],
   "source": [
    "df_complete.head()"
   ]
  },
  {
   "cell_type": "code",
   "execution_count": null,
   "metadata": {},
   "outputs": [],
   "source": [
    "# renaming columns\n",
    "df_complete.rename(columns={'age': 'Age',\n",
    "                           'gender': 'Gender',\n",
    "                           'dem_has_children': 'Childrens',\n",
    "                           'age_group': 'Age Group',\n",
    "                           'country_code': 'Country Code',\n",
    "                           'rural': 'Area',\n",
    "                           'dem_education_level': 'Education Level',\n",
    "                           'dem_full_time_job': 'Full Time Job',\n",
    "                           'normalized_job_code': 'Job Code',\n",
    "                           'question_bbi_2016wave4_basicincome_awareness': 'Q1: awareness',\n",
    "                           'question_bbi_2016wave4_basicincome_vote': 'Q2: vote',\n",
    "                           'question_bbi_2016wave4_basicincome_effect': 'Q3: effect',\n",
    "                           'question_bbi_2016wave4_basicincome_argumentsfor': 'Q4: aurguments for',\n",
    "                           'question_bbi_2016wave4_basicincome_argumentsagainst': 'Q5: arguments againts'}, inplace=True)"
   ]
  },
  {
   "cell_type": "code",
   "execution_count": null,
   "metadata": {},
   "outputs": [],
   "source": [
    "# adding quantity column\n",
    "df_complete['Quantity'] = df_complete.groupby('uuid')['uuid'].transform('count').astype(\"int64\")"
   ]
  },
  {
   "cell_type": "code",
   "execution_count": null,
   "metadata": {},
   "outputs": [],
   "source": []
  },
  {
   "cell_type": "code",
   "execution_count": null,
   "metadata": {},
   "outputs": [],
   "source": [
    "# adding percentage column\n",
    "# votos por país\n",
    "\n",
    "list_countries =df_complete['Country'].unique().tolist()\n",
    "list_countries"
   ]
  },
  {
   "cell_type": "code",
   "execution_count": null,
   "metadata": {},
   "outputs": [],
   "source": [
    "# total people per country column.\n",
    "df_complete['Total Votes Per Country'] = 0\n",
    "\n",
    "for country in list_countries:\n",
    "    df_complete.loc[df_complete['Country'] == country , 'Total Votes Per Country'] = df_complete.loc[df_complete['Country'].str.contains(country) , 'Quantity'].sum()"
   ]
  },
  {
   "cell_type": "code",
   "execution_count": null,
   "metadata": {},
   "outputs": [],
   "source": []
  },
  {
   "cell_type": "code",
   "execution_count": null,
   "metadata": {},
   "outputs": [],
   "source": [
    "df_complete['Percentage'] = (df_complete['Total Votes Per Country'] / df_complete['Total Votes Per Country'].sum()) \n",
    "df_complete['Percentage'] = df_complete['Percentage'].astype(float).map(lambda x: '{:.4%}'.format(x)) # adding the %\n",
    "df_complete"
   ]
  },
  {
   "cell_type": "code",
   "execution_count": null,
   "metadata": {},
   "outputs": [],
   "source": [
    "#Exporting the table for every country\n",
    "df_result = df_complete[['Country', 'Job Title', 'Age', 'Quantity', 'Percentage']]"
   ]
  },
  {
   "cell_type": "code",
   "execution_count": null,
   "metadata": {},
   "outputs": [],
   "source": [
    "# choosing and printing (should export).\n",
    "\n",
    "country_choosed = input(print(f'Would you like to see the data for: \\n- all countries \\n- for: {list_countries}?'))\n",
    "\n",
    "if country_choosed == 'all countries':\n",
    "    print('exporting all_countries_data.csv file...')\n",
    "    df_result.to_csv('../data/result/all_countries_data.csv')\n",
    "    print('file exported!')\n",
    "if country_choosed in list_countries:\n",
    "    df_result_per_country = df_result[df_result['Country'] == (f'{country_choosed}')]\n",
    "    print('exporting result_per_country.csv file')\n",
    "    df_result_per_country.to_csv('../data/result/result_per_country.csv')\n",
    "    print('file exported!')"
   ]
  },
  {
   "cell_type": "code",
   "execution_count": null,
   "metadata": {},
   "outputs": [],
   "source": []
  }
 ],
 "metadata": {
  "kernelspec": {
   "display_name": "Python [conda env:ironhack_env]",
   "language": "python",
   "name": "conda-env-ironhack_env-py"
  },
  "language_info": {
   "codemirror_mode": {
    "name": "ipython",
    "version": 3
   },
   "file_extension": ".py",
   "mimetype": "text/x-python",
   "name": "python",
   "nbconvert_exporter": "python",
   "pygments_lexer": "ipython3",
   "version": "3.8.5"
  }
 },
 "nbformat": 4,
 "nbformat_minor": 4
}
