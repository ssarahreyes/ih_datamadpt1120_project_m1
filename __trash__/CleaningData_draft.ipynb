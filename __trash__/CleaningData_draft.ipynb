{
 "cells": [
  {
   "cell_type": "code",
   "execution_count": 1,
   "metadata": {},
   "outputs": [],
   "source": [
    "import pandas as pd\n",
    "import pymysql\n",
    "from sqlalchemy import create_engine"
   ]
  },
  {
   "cell_type": "markdown",
   "metadata": {},
   "source": [
    "### Creating conexion string to read the data base."
   ]
  },
  {
   "cell_type": "code",
   "execution_count": 2,
   "metadata": {},
   "outputs": [],
   "source": [
    "sqlitedb_rel_path = '../data/raw_data_project_m1.db'\n",
    "conn_str = f'sqlite:///{sqlitedb_rel_path}'\n",
    "engine = create_engine(conn_str)"
   ]
  },
  {
   "cell_type": "markdown",
   "metadata": {},
   "source": [
    "### Showing the tables of the data base."
   ]
  },
  {
   "cell_type": "code",
   "execution_count": 3,
   "metadata": {},
   "outputs": [],
   "source": [
    "df = pd.read_sql_query(\"SELECT name FROM sqlite_master WHERE type='table'\", engine)"
   ]
  },
  {
   "cell_type": "markdown",
   "metadata": {},
   "source": [
    "### Cleaning data of personal_info table\n",
    "- Age column: we need to have the same format: XX years old.\n",
    "- Gender column: we need Female / Male format.\n",
    "- Dem_has_children column: Yes / No format.\n",
    "- Age_group: there are some elements out of the three bins."
   ]
  },
  {
   "cell_type": "code",
   "execution_count": 4,
   "metadata": {},
   "outputs": [],
   "source": [
    "df_personal_info = pd.read_sql_query(\"SELECT * FROM personal_info\", engine)"
   ]
  },
  {
   "cell_type": "code",
   "execution_count": 5,
   "metadata": {},
   "outputs": [
    {
     "data": {
      "text/plain": [
       "0       61 years old\n",
       "1       57 years old\n",
       "2       32 years old\n",
       "3       45 years old\n",
       "4       41 years old\n",
       "            ...     \n",
       "9644    37 years old\n",
       "9645    53 years old\n",
       "9646            1992\n",
       "9647    47 years old\n",
       "9648    51 years old\n",
       "Name: age, Length: 9649, dtype: object"
      ]
     },
     "execution_count": 5,
     "metadata": {},
     "output_type": "execute_result"
    }
   ],
   "source": [
    "#Age: algunos tienen el año en lugar de years old.\n",
    "#puedo filtrar todos aquellos valores que no contengan years old\n",
    "df_personal_info['age']"
   ]
  },
  {
   "cell_type": "code",
   "execution_count": 6,
   "metadata": {},
   "outputs": [],
   "source": [
    "#Gender: Female, Male.\n",
    "df_personal_info['gender'] = df_personal_info['gender'].astype(\"string\").str.capitalize()\n",
    "df_personal_info['gender'] = df_personal_info['gender'].replace('Fem', 'Female')"
   ]
  },
  {
   "cell_type": "code",
   "execution_count": 7,
   "metadata": {},
   "outputs": [],
   "source": [
    "#Chilren: Yes or No.\n",
    "df_personal_info['dem_has_children'] = df_personal_info['dem_has_children'].str.capitalize()"
   ]
  },
  {
   "cell_type": "code",
   "execution_count": 8,
   "metadata": {},
   "outputs": [
    {
     "data": {
      "text/plain": [
       "array(['40_65', '26_39', 'juvenile', '14_25'], dtype=object)"
      ]
     },
     "execution_count": 8,
     "metadata": {},
     "output_type": "execute_result"
    }
   ],
   "source": [
    "# - Age group: todo mismo formato. \n",
    "df_personal_info['age_group'].unique()"
   ]
  },
  {
   "cell_type": "code",
   "execution_count": 9,
   "metadata": {},
   "outputs": [
    {
     "name": "stdout",
     "output_type": "stream",
     "text": [
      "uuid                fee33680-da56-0133-c1d5-0a81e8b09a82\n",
      "age                                                 2002\n",
      "gender                                              Male\n",
      "dem_has_children                                     Yes\n",
      "age_group                                       juvenile\n",
      "dtype: object\n",
      "uuid                00199e00-d8c3-0133-c6b2-0a81e8b09a82\n",
      "age                                                 1991\n",
      "gender                                            Female\n",
      "dem_has_children                                      No\n",
      "age_group                                       juvenile\n",
      "dtype: object\n"
     ]
    }
   ],
   "source": [
    "#Hacemos filtro para ver mejor los elemntos correspondientes a 'juvenile'. Max y min pertenecen al bin 14-25, \n",
    "#porque 2016-1991 = 25 y 2016-2002=14, por lo que entendemos que todos pertecen a la msima categoría.\n",
    "juvenile_filter = df_personal_info['age_group'].str.contains(\"juvenile\")\n",
    "print(df_personal_info[juvenile_filter].max())\n",
    "print(df_personal_info[juvenile_filter].min())"
   ]
  },
  {
   "cell_type": "code",
   "execution_count": 10,
   "metadata": {},
   "outputs": [],
   "source": [
    "df_personal_info['age_group'] = df_personal_info['age_group'].replace('juvenile', '14_25')"
   ]
  },
  {
   "cell_type": "code",
   "execution_count": 11,
   "metadata": {},
   "outputs": [
    {
     "data": {
      "text/html": [
       "<div>\n",
       "<style scoped>\n",
       "    .dataframe tbody tr th:only-of-type {\n",
       "        vertical-align: middle;\n",
       "    }\n",
       "\n",
       "    .dataframe tbody tr th {\n",
       "        vertical-align: top;\n",
       "    }\n",
       "\n",
       "    .dataframe thead th {\n",
       "        text-align: right;\n",
       "    }\n",
       "</style>\n",
       "<table border=\"1\" class=\"dataframe\">\n",
       "  <thead>\n",
       "    <tr style=\"text-align: right;\">\n",
       "      <th></th>\n",
       "      <th>uuid</th>\n",
       "      <th>age</th>\n",
       "      <th>gender</th>\n",
       "      <th>dem_has_children</th>\n",
       "      <th>age_group</th>\n",
       "    </tr>\n",
       "  </thead>\n",
       "  <tbody>\n",
       "    <tr>\n",
       "      <th>0</th>\n",
       "      <td>f6e7ee00-deac-0133-4de8-0a81e8b09a82</td>\n",
       "      <td>61 years old</td>\n",
       "      <td>Male</td>\n",
       "      <td>No</td>\n",
       "      <td>40_65</td>\n",
       "    </tr>\n",
       "    <tr>\n",
       "      <th>1</th>\n",
       "      <td>54f0f1c0-dda1-0133-a559-0a81e8b09a82</td>\n",
       "      <td>57 years old</td>\n",
       "      <td>Male</td>\n",
       "      <td>Yes</td>\n",
       "      <td>40_65</td>\n",
       "    </tr>\n",
       "    <tr>\n",
       "      <th>2</th>\n",
       "      <td>83127080-da3d-0133-c74f-0a81e8b09a82</td>\n",
       "      <td>32 years old</td>\n",
       "      <td>Male</td>\n",
       "      <td>No</td>\n",
       "      <td>26_39</td>\n",
       "    </tr>\n",
       "    <tr>\n",
       "      <th>3</th>\n",
       "      <td>15626d40-db13-0133-ea5c-0a81e8b09a82</td>\n",
       "      <td>45 years old</td>\n",
       "      <td>Male</td>\n",
       "      <td>Yes</td>\n",
       "      <td>40_65</td>\n",
       "    </tr>\n",
       "    <tr>\n",
       "      <th>4</th>\n",
       "      <td>24954a70-db98-0133-4a64-0a81e8b09a82</td>\n",
       "      <td>41 years old</td>\n",
       "      <td>Female</td>\n",
       "      <td>Yes</td>\n",
       "      <td>40_65</td>\n",
       "    </tr>\n",
       "    <tr>\n",
       "      <th>...</th>\n",
       "      <td>...</td>\n",
       "      <td>...</td>\n",
       "      <td>...</td>\n",
       "      <td>...</td>\n",
       "      <td>...</td>\n",
       "    </tr>\n",
       "    <tr>\n",
       "      <th>9644</th>\n",
       "      <td>7d1ac020-dcb4-0133-817a-0a81e8b09a82</td>\n",
       "      <td>37 years old</td>\n",
       "      <td>Female</td>\n",
       "      <td>No</td>\n",
       "      <td>26_39</td>\n",
       "    </tr>\n",
       "    <tr>\n",
       "      <th>9645</th>\n",
       "      <td>39f989f0-db52-0133-8482-0a81e8b09a82</td>\n",
       "      <td>53 years old</td>\n",
       "      <td>Male</td>\n",
       "      <td>Yes</td>\n",
       "      <td>40_65</td>\n",
       "    </tr>\n",
       "    <tr>\n",
       "      <th>9646</th>\n",
       "      <td>70ce4a90-d965-0133-f5e4-0a81e8b09a82</td>\n",
       "      <td>1992</td>\n",
       "      <td>Male</td>\n",
       "      <td>No</td>\n",
       "      <td>14_25</td>\n",
       "    </tr>\n",
       "    <tr>\n",
       "      <th>9647</th>\n",
       "      <td>2896e440-db3c-0133-5b67-0a81e8b09a82</td>\n",
       "      <td>47 years old</td>\n",
       "      <td>Male</td>\n",
       "      <td>Yes</td>\n",
       "      <td>40_65</td>\n",
       "    </tr>\n",
       "    <tr>\n",
       "      <th>9648</th>\n",
       "      <td>06217ba0-dd56-0133-edda-0a81e8b09a82</td>\n",
       "      <td>51 years old</td>\n",
       "      <td>Female</td>\n",
       "      <td>Yes</td>\n",
       "      <td>40_65</td>\n",
       "    </tr>\n",
       "  </tbody>\n",
       "</table>\n",
       "<p>9649 rows × 5 columns</p>\n",
       "</div>"
      ],
      "text/plain": [
       "                                      uuid           age  gender  \\\n",
       "0     f6e7ee00-deac-0133-4de8-0a81e8b09a82  61 years old    Male   \n",
       "1     54f0f1c0-dda1-0133-a559-0a81e8b09a82  57 years old    Male   \n",
       "2     83127080-da3d-0133-c74f-0a81e8b09a82  32 years old    Male   \n",
       "3     15626d40-db13-0133-ea5c-0a81e8b09a82  45 years old    Male   \n",
       "4     24954a70-db98-0133-4a64-0a81e8b09a82  41 years old  Female   \n",
       "...                                    ...           ...     ...   \n",
       "9644  7d1ac020-dcb4-0133-817a-0a81e8b09a82  37 years old  Female   \n",
       "9645  39f989f0-db52-0133-8482-0a81e8b09a82  53 years old    Male   \n",
       "9646  70ce4a90-d965-0133-f5e4-0a81e8b09a82          1992    Male   \n",
       "9647  2896e440-db3c-0133-5b67-0a81e8b09a82  47 years old    Male   \n",
       "9648  06217ba0-dd56-0133-edda-0a81e8b09a82  51 years old  Female   \n",
       "\n",
       "     dem_has_children age_group  \n",
       "0                  No     40_65  \n",
       "1                 Yes     40_65  \n",
       "2                  No     26_39  \n",
       "3                 Yes     40_65  \n",
       "4                 Yes     40_65  \n",
       "...               ...       ...  \n",
       "9644               No     26_39  \n",
       "9645              Yes     40_65  \n",
       "9646               No     14_25  \n",
       "9647              Yes     40_65  \n",
       "9648              Yes     40_65  \n",
       "\n",
       "[9649 rows x 5 columns]"
      ]
     },
     "execution_count": 11,
     "metadata": {},
     "output_type": "execute_result"
    }
   ],
   "source": [
    "df_personal_info['age'] = df_personal_info['age'].astype(\"string\")\n",
    "df_personal_info"
   ]
  },
  {
   "cell_type": "code",
   "execution_count": 12,
   "metadata": {},
   "outputs": [
    {
     "name": "stderr",
     "output_type": "stream",
     "text": [
      "<ipython-input-12-d256be6d44eb>:3: SettingWithCopyWarning: \n",
      "A value is trying to be set on a copy of a slice from a DataFrame.\n",
      "Try using .loc[row_indexer,col_indexer] = value instead\n",
      "\n",
      "See the caveats in the documentation: https://pandas.pydata.org/pandas-docs/stable/user_guide/indexing.html#returning-a-view-versus-a-copy\n",
      "  year_filter['age'] = year_filter['age'].astype(int)\n",
      "<ipython-input-12-d256be6d44eb>:4: SettingWithCopyWarning: \n",
      "A value is trying to be set on a copy of a slice from a DataFrame.\n",
      "Try using .loc[row_indexer,col_indexer] = value instead\n",
      "\n",
      "See the caveats in the documentation: https://pandas.pydata.org/pandas-docs/stable/user_guide/indexing.html#returning-a-view-versus-a-copy\n",
      "  year_filter['age'] = 2016 - year_filter['age']\n",
      "<ipython-input-12-d256be6d44eb>:5: SettingWithCopyWarning: \n",
      "A value is trying to be set on a copy of a slice from a DataFrame.\n",
      "Try using .loc[row_indexer,col_indexer] = value instead\n",
      "\n",
      "See the caveats in the documentation: https://pandas.pydata.org/pandas-docs/stable/user_guide/indexing.html#returning-a-view-versus-a-copy\n",
      "  year_filter['age'] = year_filter['age'].astype(\"string\")\n",
      "<ipython-input-12-d256be6d44eb>:6: SettingWithCopyWarning: \n",
      "A value is trying to be set on a copy of a slice from a DataFrame.\n",
      "Try using .loc[row_indexer,col_indexer] = value instead\n",
      "\n",
      "See the caveats in the documentation: https://pandas.pydata.org/pandas-docs/stable/user_guide/indexing.html#returning-a-view-versus-a-copy\n",
      "  year_filter['age'] = year_filter['age'] + ' years old'\n"
     ]
    }
   ],
   "source": [
    "#df_personal_info['age'] = [df_personal_info['age'].astype(int) for year in df_personal_info['age'] if len(year) == 4]\n",
    "year_filter = df_personal_info[~df_personal_info['age'].str.contains(\"years old\")]\n",
    "year_filter['age'] = year_filter['age'].astype(int)\n",
    "year_filter['age'] = 2016 - year_filter['age']\n",
    "year_filter['age'] = year_filter['age'].astype(\"string\")\n",
    "year_filter['age'] = year_filter['age'] + ' years old'\n",
    "#revisarlo con Octavio y Nico\n",
    "df_personal_info.combine[year_filter,]"
   ]
  },
  {
   "cell_type": "code",
   "execution_count": 13,
   "metadata": {},
   "outputs": [],
   "source": [
    "df_country_info = pd.read_sql_query(\"SELECT * FROM country_info\", engine)\n",
    "df_country_info['rural'] = df_country_info['rural'].str.lower()"
   ]
  },
  {
   "cell_type": "code",
   "execution_count": 14,
   "metadata": {},
   "outputs": [],
   "source": [
    "df_career_info = pd.read_sql_query(\"SELECT * FROM career_info\", engine)\n",
    "df_career_info['dem_education_level'] = df_career_info['dem_education_level'].replace('no', 'no education')\n",
    "df_career_info['dem_education_level'] = df_career_info['dem_education_level'].fillna('no education')"
   ]
  },
  {
   "cell_type": "code",
   "execution_count": 15,
   "metadata": {},
   "outputs": [],
   "source": [
    "df_poll_info = pd.read_sql_query(\"SELECT * FROM poll_info\", engine)"
   ]
  }
 ],
 "metadata": {
  "kernelspec": {
   "display_name": "Python [conda env:ironhack_env]",
   "language": "python",
   "name": "conda-env-ironhack_env-py"
  },
  "language_info": {
   "codemirror_mode": {
    "name": "ipython",
    "version": 3
   },
   "file_extension": ".py",
   "mimetype": "text/x-python",
   "name": "python",
   "nbconvert_exporter": "python",
   "pygments_lexer": "ipython3",
   "version": "3.8.5"
  }
 },
 "nbformat": 4,
 "nbformat_minor": 4
}
