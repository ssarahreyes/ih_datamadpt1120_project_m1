{
 "cells": [
  {
   "cell_type": "code",
   "execution_count": 1,
   "metadata": {},
   "outputs": [],
   "source": [
    "import pandas as pd\n",
    "from sqlalchemy import create_engine\n",
    "from functools import reduce\n",
    "import re"
   ]
  },
  {
   "cell_type": "code",
   "execution_count": 2,
   "metadata": {},
   "outputs": [],
   "source": [
    "def get_tables(path):\n",
    "    \"\"\"\"\n",
    "    :param: path of the data base\n",
    "    :return: data frame with all the data, united by 'uuid'.\n",
    "    \"\"\"\n",
    "    engine = create_engine(f'sqlite:///{path}')\n",
    "    df_personal_info = pd.read_sql(\"SELECT * FROM personal_info\", engine)\n",
    "    df_country_info = pd.read_sql(\"SELECT * FROM country_info\", engine)\n",
    "    df_career_info = pd.read_sql(\"SELECT * FROM career_info\", engine)\n",
    "    df_poll_info = pd.read_sql(\"SELECT * FROM poll_info\", engine)\n",
    "\n",
    "    # getting the complete data frame\n",
    "    dfs_list = [df_personal_info, df_country_info, df_career_info, df_poll_info]\n",
    "    df_info = reduce(lambda left, right: pd.merge(left, right, on='uuid'), dfs_list)\n",
    "\n",
    "    # exporting the data frame to processed data folder.\n",
    "    #df_info.to_csv(f'../../data/processed/info_dataframe.csv', index=True)\n",
    "\n",
    "    return df_info"
   ]
  },
  {
   "cell_type": "code",
   "execution_count": 3,
   "metadata": {},
   "outputs": [],
   "source": [
    "df_complete = get_tables('../data/raw/raw_data_project_m1.db')"
   ]
  },
  {
   "cell_type": "code",
   "execution_count": 4,
   "metadata": {},
   "outputs": [],
   "source": [
    "# cleaning personal_info gender column.\n",
    "df_complete['gender'] = df_complete['gender'].astype(\"string\").str.capitalize()\n",
    "df_complete['gender'] = df_complete['gender'].replace('Fem', 'Female')"
   ]
  },
  {
   "cell_type": "code",
   "execution_count": 5,
   "metadata": {},
   "outputs": [],
   "source": [
    "# cleaning personal_info age_group column.\n",
    "df_complete['age_group'] = df_complete['age_group'].replace('juvenile', '14_25')"
   ]
  },
  {
   "cell_type": "code",
   "execution_count": 6,
   "metadata": {},
   "outputs": [],
   "source": [
    "# cleaning personal_info age column.\n",
    "df_complete['age'] = df_complete['age'].astype(\"string\")\n",
    "df_complete['age'] = df_complete['age'].str.replace(' years old', '')\n",
    "\n",
    "for x in range(1980, 2050):\n",
    "    df_complete['age'] = df_complete['age'].str.replace(f'{x}', f'{2016 - x}')\n",
    "\n",
    "df_complete['age'] = df_complete['age'].astype('int64')"
   ]
  },
  {
   "cell_type": "code",
   "execution_count": 7,
   "metadata": {},
   "outputs": [],
   "source": [
    "#Hacemos filtro para ver mejor los elemntos correspondientes a 'juvenile'. Max y min pertenecen al bin 14-25, \n",
    "#porque 2016-1991 = 25 y 2016-2002=14, por lo que entendemos que todos pertecen a la msima categoría.\n",
    "#juvenile_filter = df_personal_info['age_group'].str.contains(\"juvenile\")\n",
    "#print(df_personal_info[juvenile_filter].max())\n",
    "#print(df_personal_info[juvenile_filter].min())"
   ]
  },
  {
   "cell_type": "code",
   "execution_count": 8,
   "metadata": {},
   "outputs": [],
   "source": [
    "# cleaning country_info rural column.\n",
    "df_complete['rural'] = df_complete['rural'].str.lower()"
   ]
  },
  {
   "cell_type": "code",
   "execution_count": 9,
   "metadata": {},
   "outputs": [],
   "source": [
    "# cleaning career_info dem_education_level column.\n",
    "df_complete['dem_education_level'] = df_complete['dem_education_level'].replace('no', 'no education')\n",
    "df_complete['dem_education_level'] = df_complete['dem_education_level'].fillna('no education')"
   ]
  },
  {
   "cell_type": "code",
   "execution_count": 10,
   "metadata": {},
   "outputs": [],
   "source": [
    "# cleaning career_info dem_education_level column.\n",
    "df_complete['dem_education_level'] = df_complete['dem_education_level'].replace('no', 'no education')\n",
    "df_complete['dem_education_level'] = df_complete['dem_education_level'].fillna('no education')"
   ]
  },
  {
   "cell_type": "code",
   "execution_count": 11,
   "metadata": {},
   "outputs": [],
   "source": [
    "# cleaning def_has_chidren\n",
    "df_complete['dem_has_children'] = df_complete['dem_has_children'].str.lower()"
   ]
  },
  {
   "cell_type": "code",
   "execution_count": 12,
   "metadata": {},
   "outputs": [],
   "source": [
    "#connecting API\n",
    "import json\n",
    "import requests"
   ]
  },
  {
   "cell_type": "markdown",
   "metadata": {},
   "source": [
    "## API"
   ]
  },
  {
   "cell_type": "code",
   "execution_count": 13,
   "metadata": {},
   "outputs": [],
   "source": [
    "response = requests.get(f'http://api.dataatwork.org/v1/jobs') \n",
    "json_data = response.json()\n",
    "#problema: solo me salen 20"
   ]
  },
  {
   "cell_type": "code",
   "execution_count": 14,
   "metadata": {},
   "outputs": [],
   "source": [
    "#response = requests.get('http://api.dataatwork.org/v1/jobs/uuid')\n",
    "#results = response.json()\n",
    "#print(len(results))\n",
    "#solo saca 21 pero necesito más. lo que vamos a hacer es que nos saque los datos \n",
    "# para cada uuid, para eso necesitamos saber cuántos uuids hay."
   ]
  },
  {
   "cell_type": "code",
   "execution_count": 15,
   "metadata": {},
   "outputs": [],
   "source": [
    "job_code_unique = df_complete['normalized_job_code'].unique()\n",
    "#len(job_code_unique)"
   ]
  },
  {
   "cell_type": "code",
   "execution_count": 16,
   "metadata": {},
   "outputs": [],
   "source": [
    "list_uuid_key = []\n",
    "list_title_value = []\n",
    "\n",
    "for code in job_code_unique:\n",
    "    response = requests.get(f'http://api.dataatwork.org/v1/jobs/{code}').json()\n",
    "    if list(response.keys())[0] == 'error':\n",
    "        pass\n",
    "    else:\n",
    "        list_uuid_key.append(response['uuid'])\n",
    "        list_title_value.append(response['title'])"
   ]
  },
  {
   "cell_type": "code",
   "execution_count": 17,
   "metadata": {},
   "outputs": [],
   "source": [
    "dict_uuid_jobs_title = dict(zip(list_uuid_key , list_title_value))"
   ]
  },
  {
   "cell_type": "code",
   "execution_count": 18,
   "metadata": {},
   "outputs": [],
   "source": [
    "df_complete['Job Title'] = df_complete['normalized_job_code']\n",
    "\n",
    "for uuid, title in dict_uuid_jobs_title.items():\n",
    "    df_complete.loc[df_complete['normalized_job_code'] == uuid , 'Job Title'] = title"
   ]
  },
  {
   "cell_type": "code",
   "execution_count": 19,
   "metadata": {},
   "outputs": [],
   "source": [
    "df_complete['Job Title'] = df_complete['Job Title'].fillna('No job')"
   ]
  },
  {
   "cell_type": "markdown",
   "metadata": {},
   "source": [
    "## Web scraping"
   ]
  },
  {
   "cell_type": "code",
   "execution_count": 20,
   "metadata": {},
   "outputs": [],
   "source": [
    "import requests\n",
    "from bs4 import BeautifulSoup"
   ]
  },
  {
   "cell_type": "code",
   "execution_count": 21,
   "metadata": {},
   "outputs": [],
   "source": [
    "url = 'https://ec.europa.eu/eurostat/statistics-explained/index.php/Glossary:Country_codes'\n",
    "html = requests.get(url).content\n",
    "soup = BeautifulSoup(html, 'html.parser')"
   ]
  },
  {
   "cell_type": "code",
   "execution_count": 22,
   "metadata": {},
   "outputs": [],
   "source": [
    "table = soup.find_all('div' , {'class': 'mw-content-ltr'})[0]\n",
    "table_countries = table.find_all('table')\n",
    "all_info_countries = [info.text for info in table_countries]"
   ]
  },
  {
   "cell_type": "code",
   "execution_count": 23,
   "metadata": {},
   "outputs": [],
   "source": [
    "# cleaning the info countries.\n",
    "countries_without_spaces = [re.sub(r'\\s' , '' , x) for x in all_info_countries]\n",
    "countries_without_symbols = [re.sub(r'\\*' , '' , x) for x in countries_without_spaces]\n",
    "countries_without_squarebrackets = [re.sub(r'\\[\\d\\]' , '' , x) for x in countries_without_symbols]\n",
    "countries_clean = ''.join(countries_without_squarebrackets) #unimos todo en una string para poder hacer split"
   ]
  },
  {
   "cell_type": "code",
   "execution_count": 24,
   "metadata": {},
   "outputs": [],
   "source": [
    "country_value = re.split(r'\\(\\w{0,7}\\)' , countries_clean)\n",
    "country_key = re.findall(r'\\(\\w{0,7}\\)' , countries_clean) #extract the codes\n",
    "country_key = [re.sub(r'\\(|\\)' , '' , x) for x in country_key] #without parenthesis.\n",
    "dic_countries = dict(zip(country_key, country_value))"
   ]
  },
  {
   "cell_type": "code",
   "execution_count": 25,
   "metadata": {},
   "outputs": [],
   "source": [
    "df_complete['Country'] = df_complete['country_code']\n",
    "\n",
    "for code, name in dic_countries.items():\n",
    "    df_complete.loc[df_complete['country_code'] == code , 'Country'] = name"
   ]
  },
  {
   "cell_type": "markdown",
   "metadata": {},
   "source": [
    "## Renaming and adding Quality and Percentage columns"
   ]
  },
  {
   "cell_type": "code",
   "execution_count": 26,
   "metadata": {},
   "outputs": [],
   "source": [
    "# renaming columns\n",
    "df_complete.rename(columns={'age': 'Age',\n",
    "                           'gender': 'Gender',\n",
    "                           'dem_has_children': 'Childrens',\n",
    "                           'age_group': 'Age Group',\n",
    "                           'country_code': 'Country Code',\n",
    "                           'rural': 'Area',\n",
    "                           'dem_education_level': 'Education Level',\n",
    "                           'dem_full_time_job': 'Full Time Job',\n",
    "                           'normalized_job_code': 'Job Code',\n",
    "                           'question_bbi_2016wave4_basicincome_awareness': 'Q1: awareness',\n",
    "                           'question_bbi_2016wave4_basicincome_vote': 'Q2: vote',\n",
    "                           'question_bbi_2016wave4_basicincome_effect': 'Q3: effect',\n",
    "                           'question_bbi_2016wave4_basicincome_argumentsfor': 'Q4: arguments for',\n",
    "                           'question_bbi_2016wave4_basicincome_argumentsagainst': 'Q5: arguments against'}, inplace=True)"
   ]
  },
  {
   "cell_type": "code",
   "execution_count": 27,
   "metadata": {},
   "outputs": [],
   "source": [
    "df_complete['Quantity'] = df_complete.groupby('uuid')['uuid'].transform('count').astype(\"int64\")"
   ]
  },
  {
   "cell_type": "code",
   "execution_count": 28,
   "metadata": {},
   "outputs": [
    {
     "data": {
      "text/plain": [
       "['Austria',\n",
       " 'Belgium',\n",
       " 'Bulgaria',\n",
       " 'Cyprus',\n",
       " 'Czechia',\n",
       " 'Germany',\n",
       " 'Denmark',\n",
       " 'Estonia',\n",
       " 'Spain',\n",
       " 'Finland',\n",
       " 'France',\n",
       " 'GB',\n",
       " 'GR',\n",
       " 'Croatia',\n",
       " 'Hungary',\n",
       " 'Ireland',\n",
       " 'Italy',\n",
       " 'Lithuania',\n",
       " 'Luxembourg',\n",
       " 'Latvia',\n",
       " 'Malta',\n",
       " 'Netherlands',\n",
       " 'Poland',\n",
       " 'Portugal',\n",
       " 'Romania',\n",
       " 'Sweden',\n",
       " 'Slovenia',\n",
       " 'Slovakia']"
      ]
     },
     "execution_count": 28,
     "metadata": {},
     "output_type": "execute_result"
    }
   ],
   "source": [
    "# adding percentage column\n",
    "# votos por país\n",
    "list_countries =df_complete['Country'].unique().tolist()\n",
    "list_countries"
   ]
  },
  {
   "cell_type": "code",
   "execution_count": 29,
   "metadata": {},
   "outputs": [],
   "source": [
    "# total people per country column.\n",
    "df_complete['Total Votes Per Country'] = 0\n",
    "\n",
    "for country in list_countries:\n",
    "    df_complete.loc[df_complete['Country'] == country , 'Total Votes Per Country'] = df_complete.loc[df_complete['Country'].str.contains(country) , 'Quantity'].sum()"
   ]
  },
  {
   "cell_type": "code",
   "execution_count": 30,
   "metadata": {},
   "outputs": [],
   "source": [
    "df_complete['Percentage'] = (df_complete['Total Votes Per Country'] / df_complete['Total Votes Per Country'].sum()) \n",
    "#df_complete['Percentage'] = df_complete['Percentage'].astype(float).map(lambda x: '{:.4%}'.format(x)) # adding the %"
   ]
  },
  {
   "cell_type": "code",
   "execution_count": 31,
   "metadata": {},
   "outputs": [
    {
     "data": {
      "text/html": [
       "<div>\n",
       "<style scoped>\n",
       "    .dataframe tbody tr th:only-of-type {\n",
       "        vertical-align: middle;\n",
       "    }\n",
       "\n",
       "    .dataframe tbody tr th {\n",
       "        vertical-align: top;\n",
       "    }\n",
       "\n",
       "    .dataframe thead th {\n",
       "        text-align: right;\n",
       "    }\n",
       "</style>\n",
       "<table border=\"1\" class=\"dataframe\">\n",
       "  <thead>\n",
       "    <tr style=\"text-align: right;\">\n",
       "      <th></th>\n",
       "      <th>Country</th>\n",
       "      <th>Job Title</th>\n",
       "      <th>Age</th>\n",
       "      <th>Quantity</th>\n",
       "      <th>Percentage</th>\n",
       "    </tr>\n",
       "  </thead>\n",
       "  <tbody>\n",
       "    <tr>\n",
       "      <th>0</th>\n",
       "      <td>Austria</td>\n",
       "      <td>Automatic Data Processing Customer Liaison (AD...</td>\n",
       "      <td>35.50</td>\n",
       "      <td>2</td>\n",
       "      <td>0.000031</td>\n",
       "    </tr>\n",
       "    <tr>\n",
       "      <th>1</th>\n",
       "      <td>Austria</td>\n",
       "      <td>Automatic Data Processing Planner</td>\n",
       "      <td>52.50</td>\n",
       "      <td>2</td>\n",
       "      <td>0.000031</td>\n",
       "    </tr>\n",
       "    <tr>\n",
       "      <th>2</th>\n",
       "      <td>Austria</td>\n",
       "      <td>Automatic Data Processing Systems Security Spe...</td>\n",
       "      <td>37.00</td>\n",
       "      <td>2</td>\n",
       "      <td>0.000031</td>\n",
       "    </tr>\n",
       "    <tr>\n",
       "      <th>3</th>\n",
       "      <td>Austria</td>\n",
       "      <td>Clinical Data Specialist</td>\n",
       "      <td>39.00</td>\n",
       "      <td>1</td>\n",
       "      <td>0.000015</td>\n",
       "    </tr>\n",
       "    <tr>\n",
       "      <th>4</th>\n",
       "      <td>Austria</td>\n",
       "      <td>Computer or Data Processing Systems Consultant</td>\n",
       "      <td>44.67</td>\n",
       "      <td>3</td>\n",
       "      <td>0.000046</td>\n",
       "    </tr>\n",
       "    <tr>\n",
       "      <th>...</th>\n",
       "      <td>...</td>\n",
       "      <td>...</td>\n",
       "      <td>...</td>\n",
       "      <td>...</td>\n",
       "      <td>...</td>\n",
       "    </tr>\n",
       "    <tr>\n",
       "      <th>1861</th>\n",
       "      <td>Sweden</td>\n",
       "      <td>Naval Tactical Data System--Combat Information...</td>\n",
       "      <td>27.00</td>\n",
       "      <td>1</td>\n",
       "      <td>0.000020</td>\n",
       "    </tr>\n",
       "    <tr>\n",
       "      <th>1862</th>\n",
       "      <td>Sweden</td>\n",
       "      <td>No job</td>\n",
       "      <td>31.07</td>\n",
       "      <td>81</td>\n",
       "      <td>0.001648</td>\n",
       "    </tr>\n",
       "    <tr>\n",
       "      <th>1863</th>\n",
       "      <td>Sweden</td>\n",
       "      <td>Oracle Database Administrator (Oracle DBA)</td>\n",
       "      <td>35.00</td>\n",
       "      <td>1</td>\n",
       "      <td>0.000020</td>\n",
       "    </tr>\n",
       "    <tr>\n",
       "      <th>1864</th>\n",
       "      <td>Sweden</td>\n",
       "      <td>SQL Database Administrator</td>\n",
       "      <td>45.00</td>\n",
       "      <td>1</td>\n",
       "      <td>0.000020</td>\n",
       "    </tr>\n",
       "    <tr>\n",
       "      <th>1865</th>\n",
       "      <td>Sweden</td>\n",
       "      <td>Survey Data Technician</td>\n",
       "      <td>46.00</td>\n",
       "      <td>1</td>\n",
       "      <td>0.000020</td>\n",
       "    </tr>\n",
       "  </tbody>\n",
       "</table>\n",
       "<p>1866 rows × 5 columns</p>\n",
       "</div>"
      ],
      "text/plain": [
       "      Country                                          Job Title    Age  \\\n",
       "0     Austria  Automatic Data Processing Customer Liaison (AD...  35.50   \n",
       "1     Austria                  Automatic Data Processing Planner  52.50   \n",
       "2     Austria  Automatic Data Processing Systems Security Spe...  37.00   \n",
       "3     Austria                           Clinical Data Specialist  39.00   \n",
       "4     Austria     Computer or Data Processing Systems Consultant  44.67   \n",
       "...       ...                                                ...    ...   \n",
       "1861   Sweden  Naval Tactical Data System--Combat Information...  27.00   \n",
       "1862   Sweden                                             No job  31.07   \n",
       "1863   Sweden         Oracle Database Administrator (Oracle DBA)  35.00   \n",
       "1864   Sweden                         SQL Database Administrator  45.00   \n",
       "1865   Sweden                             Survey Data Technician  46.00   \n",
       "\n",
       "      Quantity  Percentage  \n",
       "0            2    0.000031  \n",
       "1            2    0.000031  \n",
       "2            2    0.000031  \n",
       "3            1    0.000015  \n",
       "4            3    0.000046  \n",
       "...        ...         ...  \n",
       "1861         1    0.000020  \n",
       "1862        81    0.001648  \n",
       "1863         1    0.000020  \n",
       "1864         1    0.000020  \n",
       "1865         1    0.000020  \n",
       "\n",
       "[1866 rows x 5 columns]"
      ]
     },
     "execution_count": 31,
     "metadata": {},
     "output_type": "execute_result"
    }
   ],
   "source": [
    "df_result = df_complete[['Country', 'Job Title', 'Age', 'Quantity', 'Percentage']].groupby(['Country', 'Job Title'], as_index=False).agg(Age = ('Age', 'mean'), Quantity = ('Quantity', 'sum'), Percentage=('Percentage', 'sum'))\n",
    "#df_result['Age'] = df_result['Age'].astype(float).round(3)\n",
    "df_result = df_result.round({'Age': 2, 'Percentage': 6})\n",
    "df_result"
   ]
  },
  {
   "cell_type": "code",
   "execution_count": 32,
   "metadata": {},
   "outputs": [
    {
     "data": {
      "text/html": [
       "<div>\n",
       "<style scoped>\n",
       "    .dataframe tbody tr th:only-of-type {\n",
       "        vertical-align: middle;\n",
       "    }\n",
       "\n",
       "    .dataframe tbody tr th {\n",
       "        vertical-align: top;\n",
       "    }\n",
       "\n",
       "    .dataframe thead th {\n",
       "        text-align: right;\n",
       "    }\n",
       "</style>\n",
       "<table border=\"1\" class=\"dataframe\">\n",
       "  <thead>\n",
       "    <tr style=\"text-align: right;\">\n",
       "      <th></th>\n",
       "      <th>Country</th>\n",
       "      <th>Job Title</th>\n",
       "      <th>Age</th>\n",
       "      <th>Quantity</th>\n",
       "      <th>Percentage</th>\n",
       "    </tr>\n",
       "  </thead>\n",
       "  <tbody>\n",
       "    <tr>\n",
       "      <th>1669</th>\n",
       "      <td>Spain</td>\n",
       "      <td>Analytical Data Miner</td>\n",
       "      <td>22.00</td>\n",
       "      <td>1</td>\n",
       "      <td>0.000117</td>\n",
       "    </tr>\n",
       "    <tr>\n",
       "      <th>1670</th>\n",
       "      <td>Spain</td>\n",
       "      <td>Automatic Data Processing Customer Liaison (AD...</td>\n",
       "      <td>39.73</td>\n",
       "      <td>11</td>\n",
       "      <td>0.001285</td>\n",
       "    </tr>\n",
       "    <tr>\n",
       "      <th>1671</th>\n",
       "      <td>Spain</td>\n",
       "      <td>Automatic Data Processing Planner</td>\n",
       "      <td>40.00</td>\n",
       "      <td>9</td>\n",
       "      <td>0.001051</td>\n",
       "    </tr>\n",
       "    <tr>\n",
       "      <th>1672</th>\n",
       "      <td>Spain</td>\n",
       "      <td>Automatic Data Processing Planner (ADP Planner)</td>\n",
       "      <td>46.00</td>\n",
       "      <td>11</td>\n",
       "      <td>0.001285</td>\n",
       "    </tr>\n",
       "    <tr>\n",
       "      <th>1673</th>\n",
       "      <td>Spain</td>\n",
       "      <td>Automatic Data Processing Systems Security Spe...</td>\n",
       "      <td>46.43</td>\n",
       "      <td>7</td>\n",
       "      <td>0.000818</td>\n",
       "    </tr>\n",
       "    <tr>\n",
       "      <th>...</th>\n",
       "      <td>...</td>\n",
       "      <td>...</td>\n",
       "      <td>...</td>\n",
       "      <td>...</td>\n",
       "      <td>...</td>\n",
       "    </tr>\n",
       "    <tr>\n",
       "      <th>1793</th>\n",
       "      <td>Spain</td>\n",
       "      <td>SQL Database Administrator</td>\n",
       "      <td>49.38</td>\n",
       "      <td>8</td>\n",
       "      <td>0.000935</td>\n",
       "    </tr>\n",
       "    <tr>\n",
       "      <th>1794</th>\n",
       "      <td>Spain</td>\n",
       "      <td>Scientific Database Curator</td>\n",
       "      <td>44.00</td>\n",
       "      <td>2</td>\n",
       "      <td>0.000234</td>\n",
       "    </tr>\n",
       "    <tr>\n",
       "      <th>1795</th>\n",
       "      <td>Spain</td>\n",
       "      <td>Survey Data Technician</td>\n",
       "      <td>19.00</td>\n",
       "      <td>1</td>\n",
       "      <td>0.000117</td>\n",
       "    </tr>\n",
       "    <tr>\n",
       "      <th>1796</th>\n",
       "      <td>Spain</td>\n",
       "      <td>Voice and Data Technician</td>\n",
       "      <td>32.50</td>\n",
       "      <td>2</td>\n",
       "      <td>0.000234</td>\n",
       "    </tr>\n",
       "    <tr>\n",
       "      <th>1797</th>\n",
       "      <td>Spain</td>\n",
       "      <td>Weight in Motion Field Data Collection Technician</td>\n",
       "      <td>36.75</td>\n",
       "      <td>4</td>\n",
       "      <td>0.000467</td>\n",
       "    </tr>\n",
       "  </tbody>\n",
       "</table>\n",
       "<p>129 rows × 5 columns</p>\n",
       "</div>"
      ],
      "text/plain": [
       "     Country                                          Job Title    Age  \\\n",
       "1669   Spain                              Analytical Data Miner  22.00   \n",
       "1670   Spain  Automatic Data Processing Customer Liaison (AD...  39.73   \n",
       "1671   Spain                  Automatic Data Processing Planner  40.00   \n",
       "1672   Spain    Automatic Data Processing Planner (ADP Planner)  46.00   \n",
       "1673   Spain  Automatic Data Processing Systems Security Spe...  46.43   \n",
       "...      ...                                                ...    ...   \n",
       "1793   Spain                         SQL Database Administrator  49.38   \n",
       "1794   Spain                        Scientific Database Curator  44.00   \n",
       "1795   Spain                             Survey Data Technician  19.00   \n",
       "1796   Spain                          Voice and Data Technician  32.50   \n",
       "1797   Spain  Weight in Motion Field Data Collection Technician  36.75   \n",
       "\n",
       "      Quantity  Percentage  \n",
       "1669         1    0.000117  \n",
       "1670        11    0.001285  \n",
       "1671         9    0.001051  \n",
       "1672        11    0.001285  \n",
       "1673         7    0.000818  \n",
       "...        ...         ...  \n",
       "1793         8    0.000935  \n",
       "1794         2    0.000234  \n",
       "1795         1    0.000117  \n",
       "1796         2    0.000234  \n",
       "1797         4    0.000467  \n",
       "\n",
       "[129 rows x 5 columns]"
      ]
     },
     "execution_count": 32,
     "metadata": {},
     "output_type": "execute_result"
    }
   ],
   "source": [
    "df_result[df_result['Country'] == 'Spain']"
   ]
  },
  {
   "cell_type": "code",
   "execution_count": 33,
   "metadata": {},
   "outputs": [],
   "source": [
    "#bonus 1: table about votes."
   ]
  },
  {
   "cell_type": "code",
   "execution_count": 34,
   "metadata": {},
   "outputs": [],
   "source": [
    "# cleaniin Q3 column\n",
    "df_complete['Q3: effect'] = df_complete['Q3: effect'].astype(\"string\")\n",
    "df_complete['Q3: effect'] = df_complete['Q3: effect'].replace(\"‰Û_ \", \"\")"
   ]
  },
  {
   "cell_type": "code",
   "execution_count": 35,
   "metadata": {},
   "outputs": [],
   "source": [
    "df_complete['Q3: effect'] = [re.sub(r'\\‰Û_', '', x) for x in df_complete['Q3: effect']]"
   ]
  },
  {
   "cell_type": "code",
   "execution_count": 36,
   "metadata": {},
   "outputs": [
    {
     "data": {
      "text/html": [
       "<div>\n",
       "<style scoped>\n",
       "    .dataframe tbody tr th:only-of-type {\n",
       "        vertical-align: middle;\n",
       "    }\n",
       "\n",
       "    .dataframe tbody tr th {\n",
       "        vertical-align: top;\n",
       "    }\n",
       "\n",
       "    .dataframe thead th {\n",
       "        text-align: right;\n",
       "    }\n",
       "</style>\n",
       "<table border=\"1\" class=\"dataframe\">\n",
       "  <thead>\n",
       "    <tr style=\"text-align: right;\">\n",
       "      <th></th>\n",
       "      <th>uuid</th>\n",
       "      <th>Age</th>\n",
       "      <th>Gender</th>\n",
       "      <th>Childrens</th>\n",
       "      <th>Age Group</th>\n",
       "      <th>Country Code</th>\n",
       "      <th>Area</th>\n",
       "      <th>Education Level</th>\n",
       "      <th>Full Time Job</th>\n",
       "      <th>Job Code</th>\n",
       "      <th>Q1: awareness</th>\n",
       "      <th>Q2: vote</th>\n",
       "      <th>Q3: effect</th>\n",
       "      <th>Q4: arguments for</th>\n",
       "      <th>Q5: arguments against</th>\n",
       "      <th>Job Title</th>\n",
       "      <th>Country</th>\n",
       "      <th>Quantity</th>\n",
       "      <th>Total Votes Per Country</th>\n",
       "      <th>Percentage</th>\n",
       "    </tr>\n",
       "  </thead>\n",
       "  <tbody>\n",
       "    <tr>\n",
       "      <th>0</th>\n",
       "      <td>f6e7ee00-deac-0133-4de8-0a81e8b09a82</td>\n",
       "      <td>61</td>\n",
       "      <td>Male</td>\n",
       "      <td>no</td>\n",
       "      <td>40_65</td>\n",
       "      <td>AT</td>\n",
       "      <td>countryside</td>\n",
       "      <td>no education</td>\n",
       "      <td>no</td>\n",
       "      <td>None</td>\n",
       "      <td>I know something about it</td>\n",
       "      <td>I would not vote</td>\n",
       "      <td>None of the above</td>\n",
       "      <td>None of the above</td>\n",
       "      <td>None of the above</td>\n",
       "      <td>No job</td>\n",
       "      <td>Austria</td>\n",
       "      <td>1</td>\n",
       "      <td>133</td>\n",
       "      <td>0.000015</td>\n",
       "    </tr>\n",
       "    <tr>\n",
       "      <th>1</th>\n",
       "      <td>54f0f1c0-dda1-0133-a559-0a81e8b09a82</td>\n",
       "      <td>57</td>\n",
       "      <td>Male</td>\n",
       "      <td>yes</td>\n",
       "      <td>40_65</td>\n",
       "      <td>AT</td>\n",
       "      <td>urban</td>\n",
       "      <td>high</td>\n",
       "      <td>yes</td>\n",
       "      <td>861a9b9151e11362eb3c77ca914172d0</td>\n",
       "      <td>I understand it fully</td>\n",
       "      <td>I would probably vote for it</td>\n",
       "      <td>A basic income would not affect my work choices</td>\n",
       "      <td>It increases appreciation for household work a...</td>\n",
       "      <td>It might encourage people to stop working</td>\n",
       "      <td>Automatic Data Processing Planner</td>\n",
       "      <td>Austria</td>\n",
       "      <td>1</td>\n",
       "      <td>133</td>\n",
       "      <td>0.000015</td>\n",
       "    </tr>\n",
       "  </tbody>\n",
       "</table>\n",
       "</div>"
      ],
      "text/plain": [
       "                                   uuid  Age Gender Childrens Age Group  \\\n",
       "0  f6e7ee00-deac-0133-4de8-0a81e8b09a82   61   Male        no     40_65   \n",
       "1  54f0f1c0-dda1-0133-a559-0a81e8b09a82   57   Male       yes     40_65   \n",
       "\n",
       "  Country Code         Area Education Level Full Time Job  \\\n",
       "0           AT  countryside    no education            no   \n",
       "1           AT        urban            high           yes   \n",
       "\n",
       "                           Job Code              Q1: awareness  \\\n",
       "0                              None  I know something about it   \n",
       "1  861a9b9151e11362eb3c77ca914172d0      I understand it fully   \n",
       "\n",
       "                       Q2: vote  \\\n",
       "0              I would not vote   \n",
       "1  I would probably vote for it   \n",
       "\n",
       "                                        Q3: effect  \\\n",
       "0                                None of the above   \n",
       "1  A basic income would not affect my work choices   \n",
       "\n",
       "                                   Q4: arguments for  \\\n",
       "0                                  None of the above   \n",
       "1  It increases appreciation for household work a...   \n",
       "\n",
       "                       Q5: arguments against  \\\n",
       "0                          None of the above   \n",
       "1  It might encourage people to stop working   \n",
       "\n",
       "                           Job Title  Country  Quantity  \\\n",
       "0                             No job  Austria         1   \n",
       "1  Automatic Data Processing Planner  Austria         1   \n",
       "\n",
       "   Total Votes Per Country  Percentage  \n",
       "0                      133    0.000015  \n",
       "1                      133    0.000015  "
      ]
     },
     "execution_count": 36,
     "metadata": {},
     "output_type": "execute_result"
    }
   ],
   "source": [
    "df_complete.head(2)"
   ]
  },
  {
   "cell_type": "code",
   "execution_count": 37,
   "metadata": {},
   "outputs": [],
   "source": [
    "# Q4 vamos a unirlo todo en una sola lista para ver los valores únicos.\n",
    "arguments_for = [info for info in df_complete['Q4: arguments for']]"
   ]
  },
  {
   "cell_type": "code",
   "execution_count": 38,
   "metadata": {},
   "outputs": [],
   "source": [
    "def convert_list_to_string(org_list, seperator=' '):\n",
    "    \"\"\" Convert list to string, by joining all item in list with given separator.\n",
    "        Returns the concatenated string \"\"\"\n",
    "    return seperator.join(org_list)"
   ]
  },
  {
   "cell_type": "code",
   "execution_count": 39,
   "metadata": {},
   "outputs": [],
   "source": [
    "all_arguments = convert_list_to_string(arguments_for)"
   ]
  },
  {
   "cell_type": "code",
   "execution_count": 40,
   "metadata": {},
   "outputs": [],
   "source": [
    "arguments_split_mayus = re.findall('[A-Z][^A-Z]*', all_arguments)"
   ]
  },
  {
   "cell_type": "code",
   "execution_count": 41,
   "metadata": {},
   "outputs": [],
   "source": [
    "arguments_without_verticalbar = [re.sub('\\ \\| +', '', x) for x in arguments_split_mayus]"
   ]
  },
  {
   "cell_type": "code",
   "execution_count": 42,
   "metadata": {},
   "outputs": [],
   "source": [
    "arguments_cleaned = [re.sub(' [^ ]*$', '', x) for x in arguments_without_verticalbar]\n",
    "arguments_cleaned_set = set(arguments_cleaned)"
   ]
  },
  {
   "cell_type": "code",
   "execution_count": 43,
   "metadata": {},
   "outputs": [
    {
     "data": {
      "text/plain": [
       "{'It creates more equality of',\n",
       " 'It creates more equality of opportunity',\n",
       " 'It encourages financial independence and',\n",
       " 'It encourages financial independence and self-responsibility',\n",
       " 'It increases appreciation for household work and',\n",
       " 'It increases appreciation for household work and volunteering',\n",
       " 'It increases solidarity, because it is funded by',\n",
       " 'It increases solidarity, because it is funded by everyone',\n",
       " 'It reduces anxiety about financing basic',\n",
       " 'It reduces anxiety about financing basic needs',\n",
       " 'It reduces bureaucracy and administrative',\n",
       " 'It reduces bureaucracy and administrative expenses',\n",
       " 'None of the above'}"
      ]
     },
     "execution_count": 43,
     "metadata": {},
     "output_type": "execute_result"
    }
   ],
   "source": [
    "arguments_cleaned_set"
   ]
  },
  {
   "cell_type": "code",
   "execution_count": 44,
   "metadata": {},
   "outputs": [],
   "source": [
    "more_equality = sum(map(lambda x : x=='It creates more equality of' or x=='It creates more equality of opportunity', arguments_cleaned))\n",
    "financial_independence = sum(map(lambda x : x == 'It encourages financial independence and' or x == 'It encourages financial independence and self-responsibility', arguments_cleaned))\n",
    "household_appreciation = sum(map(lambda x : x== 'It increases appreciation for household work and' or x == 'It increases appreciation for household work and volunteering', arguments_cleaned))\n",
    "solidarity = sum(map(lambda x : x== 'It increases solidarity, because it is funded by' or x == 'It increases solidarity, because it is funded by everyone', arguments_cleaned))\n",
    "reduces_anxiety = sum(map(lambda x : x== 'It reduces anxiety about financing basic' or x == 'It reduces anxiety about financing basic needs', arguments_cleaned))\n",
    "reduces_boreaucracy_expenses = sum(map(lambda x : x== 'It reduces bureaucracy and administrative' or x == 'It reduces bureaucracy and administrative expenses', arguments_cleaned))\n",
    "none_of_above = sum(map(lambda x: x == 'None of the above', arguments_cleaned))"
   ]
  },
  {
   "cell_type": "code",
   "execution_count": 45,
   "metadata": {},
   "outputs": [],
   "source": [
    "#number_of_votes = pd.DataFrame(votes, columns = ['Number of pro arguments', 'Number of cons arguments']\n",
    "#votes = [['In favor', number_pro_arguments], ['Against': Y]]"
   ]
  },
  {
   "cell_type": "code",
   "execution_count": 46,
   "metadata": {},
   "outputs": [],
   "source": [
    "number_pro_favor_votes = more_equality + financial_independence + household_appreciation + solidarity + reduces_anxiety + reduces_boreaucracy_expenses\n",
    "number_pro_against_votes = none_of_above"
   ]
  },
  {
   "cell_type": "code",
   "execution_count": 47,
   "metadata": {},
   "outputs": [],
   "source": [
    "#Q5: hacemos todo el proceso de nuevo"
   ]
  },
  {
   "cell_type": "code",
   "execution_count": 48,
   "metadata": {},
   "outputs": [],
   "source": [
    "arguments_against = [info for info in df_complete['Q5: arguments against']]\n",
    "arguments_against_together = ' '.join(arguments_against)\n",
    "arguments_against_split_mayus = re.findall('[A-Z][^A-Z]*', arguments_against_together)\n",
    "arguments_against_without_verticalbar = [re.sub('\\ \\| +', '', x) for x in arguments_against_split_mayus]\n",
    "arguments_against_cleaned = [re.sub(' [^ ]*$', '', x) for x in arguments_against_without_verticalbar]\n",
    "arguments_against_cleaned_set = set(arguments_against_cleaned)"
   ]
  },
  {
   "cell_type": "code",
   "execution_count": 49,
   "metadata": {},
   "outputs": [
    {
     "data": {
      "text/plain": [
       "{'Foreigners might come to my country and take advantage of the',\n",
       " 'Foreigners might come to my country and take advantage of the benefit',\n",
       " 'It increases dependence on the',\n",
       " 'It increases dependence on the state',\n",
       " 'It is against the principle of linking merit and',\n",
       " 'It is against the principle of linking merit and reward',\n",
       " 'It is impossible to',\n",
       " 'It is impossible to finance',\n",
       " 'It might encourage people to stop',\n",
       " 'It might encourage people to stop working',\n",
       " 'None of the above',\n",
       " 'Only the people who need it most should get something from the',\n",
       " 'Only the people who need it most should get something from the state'}"
      ]
     },
     "execution_count": 49,
     "metadata": {},
     "output_type": "execute_result"
    }
   ],
   "source": [
    "arguments_against_cleaned_set"
   ]
  },
  {
   "cell_type": "code",
   "execution_count": 50,
   "metadata": {},
   "outputs": [],
   "source": [
    "foreigners = sum(map(lambda x : x=='Foreigners might come to my country and take advantage of the' or x=='Foreigners might come to my country and take advantage of the benefit', arguments_against_cleaned))\n",
    "state_dependence = sum(map(lambda x : x == 'It increases dependence on the' or x == 'It increases dependence on the state', arguments_against_cleaned))\n",
    "against_merit = sum(map(lambda x : x== 'It is against the principle of linking merit and' or x == 'It is against the principle of linking merit and reward', arguments_against_cleaned))\n",
    "impossible_finance = sum(map(lambda x : x== 'It is impossible to' or x == 'It is impossible to finance', arguments_against_cleaned))\n",
    "stop_working = sum(map(lambda x : x== 'It might encourage people to stop' or x == 'It might encourage people to stop working', arguments_against_cleaned))\n",
    "only_needed = sum(map(lambda x : x== 'Only the people who need it most should get something from the' or x == 'Only the people who need it most should get something from the state', arguments_against_cleaned))\n",
    "none_of_above_ag = sum(map(lambda x: x == 'None of the above', arguments_against_cleaned))"
   ]
  },
  {
   "cell_type": "code",
   "execution_count": 51,
   "metadata": {},
   "outputs": [],
   "source": [
    "number_cons_favor = foreigners + state_dependence + against_merit + impossible_finance + stop_working + only_needed\n",
    "number_cons_against = none_of_above_ag"
   ]
  },
  {
   "cell_type": "code",
   "execution_count": 52,
   "metadata": {},
   "outputs": [],
   "source": [
    "votes = [['In favor', number_pro_favor_votes, number_cons_favor], ['Against', number_pro_against_votes, number_cons_against]]\n",
    "number_of_votes = pd.DataFrame(votes, columns=['Position', 'Number of pro arguments', 'Number of cons arguments'])"
   ]
  },
  {
   "cell_type": "code",
   "execution_count": 53,
   "metadata": {},
   "outputs": [
    {
     "data": {
      "text/html": [
       "<div>\n",
       "<style scoped>\n",
       "    .dataframe tbody tr th:only-of-type {\n",
       "        vertical-align: middle;\n",
       "    }\n",
       "\n",
       "    .dataframe tbody tr th {\n",
       "        vertical-align: top;\n",
       "    }\n",
       "\n",
       "    .dataframe thead th {\n",
       "        text-align: right;\n",
       "    }\n",
       "</style>\n",
       "<table border=\"1\" class=\"dataframe\">\n",
       "  <thead>\n",
       "    <tr style=\"text-align: right;\">\n",
       "      <th></th>\n",
       "      <th>Position</th>\n",
       "      <th>Number of pro arguments</th>\n",
       "      <th>Number of cons arguments</th>\n",
       "    </tr>\n",
       "  </thead>\n",
       "  <tbody>\n",
       "    <tr>\n",
       "      <th>0</th>\n",
       "      <td>In favor</td>\n",
       "      <td>14571</td>\n",
       "      <td>18374</td>\n",
       "    </tr>\n",
       "    <tr>\n",
       "      <th>1</th>\n",
       "      <td>Against</td>\n",
       "      <td>2163</td>\n",
       "      <td>1381</td>\n",
       "    </tr>\n",
       "  </tbody>\n",
       "</table>\n",
       "</div>"
      ],
      "text/plain": [
       "   Position  Number of pro arguments  Number of cons arguments\n",
       "0  In favor                    14571                     18374\n",
       "1   Against                     2163                      1381"
      ]
     },
     "execution_count": 53,
     "metadata": {},
     "output_type": "execute_result"
    }
   ],
   "source": [
    "number_of_votes"
   ]
  },
  {
   "cell_type": "markdown",
   "metadata": {},
   "source": [
    "## BONUS 2"
   ]
  },
  {
   "cell_type": "code",
   "execution_count": 54,
   "metadata": {},
   "outputs": [],
   "source": [
    "unique_jobs = df_complete['Job Title'].unique()"
   ]
  },
  {
   "cell_type": "code",
   "execution_count": 146,
   "metadata": {},
   "outputs": [
    {
     "name": "stderr",
     "output_type": "stream",
     "text": [
      "IOPub data rate exceeded.\n",
      "The notebook server will temporarily stop sending output\n",
      "to the client in order to avoid crashing it.\n",
      "To change this limit, set the config variable\n",
      "`--NotebookApp.iopub_data_rate_limit`.\n",
      "\n",
      "Current values:\n",
      "NotebookApp.iopub_data_rate_limit=1000000.0 (bytes/sec)\n",
      "NotebookApp.rate_limit_window=3.0 (secs)\n",
      "\n"
     ]
    }
   ],
   "source": [
    "list_jobs_key = []\n",
    "list_skills_values = []\n",
    "\n",
    "for code in job_code_unique:\n",
    "    response_skills = requests.get(f'http://api.dataatwork.org/v1/jobs/{code}/related_skills').json()\n",
    "    if list(response_skills.keys())[0] == 'error':\n",
    "        pass\n",
    "    else:\n",
    "        list_jobs_key.append(response_skills['job_uuid'])\n",
    "        list_skills_values.append(response_skills['skills'])\n",
    "        \n",
    "        \n",
    "print(list_skills_values)"
   ]
  },
  {
   "cell_type": "code",
   "execution_count": 94,
   "metadata": {},
   "outputs": [
    {
     "data": {
      "text/html": [
       "<div>\n",
       "<style scoped>\n",
       "    .dataframe tbody tr th:only-of-type {\n",
       "        vertical-align: middle;\n",
       "    }\n",
       "\n",
       "    .dataframe tbody tr th {\n",
       "        vertical-align: top;\n",
       "    }\n",
       "\n",
       "    .dataframe thead th {\n",
       "        text-align: right;\n",
       "    }\n",
       "</style>\n",
       "<table border=\"1\" class=\"dataframe\">\n",
       "  <thead>\n",
       "    <tr style=\"text-align: right;\">\n",
       "      <th></th>\n",
       "      <th>skill_uuid</th>\n",
       "      <th>skill_name</th>\n",
       "      <th>skill_type</th>\n",
       "      <th>description</th>\n",
       "      <th>normalized_skill_name</th>\n",
       "      <th>importance</th>\n",
       "      <th>level</th>\n",
       "    </tr>\n",
       "  </thead>\n",
       "  <tbody>\n",
       "    <tr>\n",
       "      <th>0</th>\n",
       "      <td>b3cb1294905e001d3d611bff1de3962c</td>\n",
       "      <td>computers and electronics</td>\n",
       "      <td>knowledge</td>\n",
       "      <td>knowledge of circuit boards, processors, chips...</td>\n",
       "      <td>computers and electronics</td>\n",
       "      <td>4.61</td>\n",
       "      <td>5.79</td>\n",
       "    </tr>\n",
       "    <tr>\n",
       "      <th>1</th>\n",
       "      <td>500018df958f2b9f8b387cf5637a0a04</td>\n",
       "      <td>english language</td>\n",
       "      <td>knowledge</td>\n",
       "      <td>knowledge of the structure and content of the ...</td>\n",
       "      <td>english language</td>\n",
       "      <td>4.01</td>\n",
       "      <td>4.54</td>\n",
       "    </tr>\n",
       "    <tr>\n",
       "      <th>2</th>\n",
       "      <td>20784bf09c9fe614603ad635e6093ede</td>\n",
       "      <td>critical thinking</td>\n",
       "      <td>skill</td>\n",
       "      <td>using logic and reasoning to identify the stre...</td>\n",
       "      <td>critical thinking</td>\n",
       "      <td>3.75</td>\n",
       "      <td>4.50</td>\n",
       "    </tr>\n",
       "    <tr>\n",
       "      <th>3</th>\n",
       "      <td>0194023051cb666af3d2c4761d894957</td>\n",
       "      <td>oral comprehension</td>\n",
       "      <td>ability</td>\n",
       "      <td>the ability to listen to and understand inform...</td>\n",
       "      <td>oral comprehension</td>\n",
       "      <td>3.62</td>\n",
       "      <td>4.50</td>\n",
       "    </tr>\n",
       "    <tr>\n",
       "      <th>4</th>\n",
       "      <td>d66da8698b5a37186143205b78c73f7d</td>\n",
       "      <td>problem sensitivity</td>\n",
       "      <td>ability</td>\n",
       "      <td>the ability to tell when something is wrong or...</td>\n",
       "      <td>problem sensitivity</td>\n",
       "      <td>3.62</td>\n",
       "      <td>4.12</td>\n",
       "    </tr>\n",
       "    <tr>\n",
       "      <th>...</th>\n",
       "      <td>...</td>\n",
       "      <td>...</td>\n",
       "      <td>...</td>\n",
       "      <td>...</td>\n",
       "      <td>...</td>\n",
       "      <td>...</td>\n",
       "      <td>...</td>\n",
       "    </tr>\n",
       "    <tr>\n",
       "      <th>114</th>\n",
       "      <td>14761de245bcd6eba056fe5091f34407</td>\n",
       "      <td>gross body equilibrium</td>\n",
       "      <td>ability</td>\n",
       "      <td>the ability to keep or regain your body balanc...</td>\n",
       "      <td>gross body equilibrium</td>\n",
       "      <td>1.00</td>\n",
       "      <td>0.00</td>\n",
       "    </tr>\n",
       "    <tr>\n",
       "      <th>115</th>\n",
       "      <td>b18b8fef2d7455abdf73295dc7d269fe</td>\n",
       "      <td>night vision</td>\n",
       "      <td>ability</td>\n",
       "      <td>the ability to see under low light conditions.</td>\n",
       "      <td>night vision</td>\n",
       "      <td>1.00</td>\n",
       "      <td>0.00</td>\n",
       "    </tr>\n",
       "    <tr>\n",
       "      <th>116</th>\n",
       "      <td>2e438c6f4e1239baea1d6e6090c924de</td>\n",
       "      <td>peripheral vision</td>\n",
       "      <td>ability</td>\n",
       "      <td>the ability to see objects or movement of obje...</td>\n",
       "      <td>peripheral vision</td>\n",
       "      <td>1.00</td>\n",
       "      <td>0.00</td>\n",
       "    </tr>\n",
       "    <tr>\n",
       "      <th>117</th>\n",
       "      <td>431209d2171022ca1ca9c8866e111649</td>\n",
       "      <td>glare sensitivity</td>\n",
       "      <td>ability</td>\n",
       "      <td>the ability to see objects in the presence of ...</td>\n",
       "      <td>glare sensitivity</td>\n",
       "      <td>1.00</td>\n",
       "      <td>0.00</td>\n",
       "    </tr>\n",
       "    <tr>\n",
       "      <th>118</th>\n",
       "      <td>fa8a9d937f48f5782e03cd57d88bc044</td>\n",
       "      <td>food production</td>\n",
       "      <td>knowledge</td>\n",
       "      <td>knowledge of techniques and equipment for plan...</td>\n",
       "      <td>food production</td>\n",
       "      <td>1.00</td>\n",
       "      <td>0.00</td>\n",
       "    </tr>\n",
       "  </tbody>\n",
       "</table>\n",
       "<p>119 rows × 7 columns</p>\n",
       "</div>"
      ],
      "text/plain": [
       "                           skill_uuid                 skill_name skill_type  \\\n",
       "0    b3cb1294905e001d3d611bff1de3962c  computers and electronics  knowledge   \n",
       "1    500018df958f2b9f8b387cf5637a0a04           english language  knowledge   \n",
       "2    20784bf09c9fe614603ad635e6093ede          critical thinking      skill   \n",
       "3    0194023051cb666af3d2c4761d894957         oral comprehension    ability   \n",
       "4    d66da8698b5a37186143205b78c73f7d        problem sensitivity    ability   \n",
       "..                                ...                        ...        ...   \n",
       "114  14761de245bcd6eba056fe5091f34407     gross body equilibrium    ability   \n",
       "115  b18b8fef2d7455abdf73295dc7d269fe               night vision    ability   \n",
       "116  2e438c6f4e1239baea1d6e6090c924de          peripheral vision    ability   \n",
       "117  431209d2171022ca1ca9c8866e111649          glare sensitivity    ability   \n",
       "118  fa8a9d937f48f5782e03cd57d88bc044            food production  knowledge   \n",
       "\n",
       "                                           description  \\\n",
       "0    knowledge of circuit boards, processors, chips...   \n",
       "1    knowledge of the structure and content of the ...   \n",
       "2    using logic and reasoning to identify the stre...   \n",
       "3    the ability to listen to and understand inform...   \n",
       "4    the ability to tell when something is wrong or...   \n",
       "..                                                 ...   \n",
       "114  the ability to keep or regain your body balanc...   \n",
       "115     the ability to see under low light conditions.   \n",
       "116  the ability to see objects or movement of obje...   \n",
       "117  the ability to see objects in the presence of ...   \n",
       "118  knowledge of techniques and equipment for plan...   \n",
       "\n",
       "         normalized_skill_name  importance  level  \n",
       "0    computers and electronics        4.61   5.79  \n",
       "1             english language        4.01   4.54  \n",
       "2            critical thinking        3.75   4.50  \n",
       "3           oral comprehension        3.62   4.50  \n",
       "4          problem sensitivity        3.62   4.12  \n",
       "..                         ...         ...    ...  \n",
       "114     gross body equilibrium        1.00   0.00  \n",
       "115               night vision        1.00   0.00  \n",
       "116          peripheral vision        1.00   0.00  \n",
       "117          glare sensitivity        1.00   0.00  \n",
       "118            food production        1.00   0.00  \n",
       "\n",
       "[119 rows x 7 columns]"
      ]
     },
     "execution_count": 94,
     "metadata": {},
     "output_type": "execute_result"
    }
   ],
   "source": [
    "df_skills = pd.DataFrame(list_skills_values[0])\n",
    "df_skills"
   ]
  },
  {
   "cell_type": "code",
   "execution_count": 235,
   "metadata": {},
   "outputs": [],
   "source": [
    "list_of_skills = df_skills['skill_name'].tolist()"
   ]
  },
  {
   "cell_type": "code",
   "execution_count": 236,
   "metadata": {},
   "outputs": [],
   "source": [
    "#damos por hecho que la skill más importante es la primera y solo nos quedamos con conesa.\n",
    "dict_job_skills_title = dict(zip(list_jobs_key , list_of_skills))"
   ]
  },
  {
   "cell_type": "code",
   "execution_count": 237,
   "metadata": {},
   "outputs": [
    {
     "data": {
      "text/plain": [
       "{'861a9b9151e11362eb3c77ca914172d0': 'computers and electronics',\n",
       " '049a3f3a2b5f85cb2971ba77ad66e10c': 'english language',\n",
       " 'f4b2fb1aa40f661488e2782b6d57ad2f': 'critical thinking',\n",
       " '27af8700f5577cec835acee2cb90a2ff': 'oral comprehension',\n",
       " 'c1b670eba9ccb65e7c99f7da116d5b9c': 'problem sensitivity',\n",
       " 'd71c4164c99a5f9bca773e755a72f40f': 'information ordering',\n",
       " '2ee80cf30e2483dfe0947adc0428f8c5': 'customer and personal service',\n",
       " '897ef18a9321616495831a4b4b0c1bb2': 'mathematics',\n",
       " 'a003702c0cea282e17967772dd83de5e': 'reading comprehension',\n",
       " '04c82eae29e1c4a30eac0710b74ab276': 'active listening',\n",
       " 'fcaf4aac737e53ad24b9f32f08b8740f': 'speaking',\n",
       " '3833bd699e7afe4665b595f282da0387': 'systems analysis',\n",
       " '474b962c13632a04e42a546be4f11dbb': 'written comprehension',\n",
       " 'dac2e921c1f887d9efc4c06fa33c1397': 'fluency of ideas',\n",
       " '996da29c84f5eed00da40c230f4c4078': 'deductive reasoning',\n",
       " 'cc2b26cc436bea36bda3bdd7367c411a': 'category flexibility',\n",
       " '25fe195cbf915c0824fa6c44e6d0008c': 'near vision',\n",
       " '76385cb24e831b3364279b9de5641d8f': 'speech clarity',\n",
       " '16b67d7f57698455aefbc1ae1b358b50': 'writing',\n",
       " 'b24ece3300d2f8ab34f9553e531183d6': 'complex problem solving',\n",
       " '5db2c8d6539f983e1ca3d7c5b939e190': 'programming',\n",
       " '2ca138b991c50dc6696238e5ad800142': 'judgment and decision making',\n",
       " '775190277a849cba701b306a7b374c0a': 'systems evaluation',\n",
       " '022d0e3a40aa3e29bca6851542b27842': 'oral expression',\n",
       " '375017ea3a1a97f5ea676def873bb25b': 'inductive reasoning',\n",
       " '1dd2fdc8a3981f2a1d8f0ca173952bb8': 'active learning',\n",
       " 'e605336f5a43949cb6b18054fd1937f1': 'operations analysis',\n",
       " '800b621aab5dac18f4caef621fa43a49': 'quality control analysis',\n",
       " 'a12a16280e22220f9354333f6fe1b22a': 'written expression',\n",
       " '477b53ef09d37f098d5ed74f47fcbaec': 'number facility',\n",
       " 'e2f68bf748aea2c7d2254550c0c92b23': 'speech recognition',\n",
       " '45033f83b6e0309eca9bcd76917f15d0': 'engineering and technology',\n",
       " '141ddda0f613da65a280521247de0e9f': 'administration and management',\n",
       " '6408c0d7c7faa4ced47fbc8474698126': 'monitoring',\n",
       " '07b7555fa790debaf5b04d1409ad5f11': 'social perceptiveness',\n",
       " 'a4d5b8b38f9513825d0d94a981ebe962': 'technology design',\n",
       " '5e93fd1a58c8a67b295f69d87d1a940d': 'troubleshooting',\n",
       " '122f24bc911a79c26ca66210557dda07': 'time management',\n",
       " '76b0ba6af40991629e20dff36edd02a5': 'mathematical reasoning',\n",
       " '970eb38c7b3eb080466052ea994af189': 'flexibility of closure',\n",
       " 'cf2d4db3c258faa2499bdeeeed6721a5': 'selective attention',\n",
       " '90c5430dbc810aec8695af2f1f4c42e8': 'coordination',\n",
       " '7bb15eefb19ed09c59349baad7e8469e': 'persuasion',\n",
       " 'ec3d88b2fd083b870b8c5a603898ed39': 'service orientation',\n",
       " '1f8576bdffa64f492405d02b842c41a6': 'originality',\n",
       " 'edc64316da9707432443c7a4461abe6c': 'speed of closure',\n",
       " '6cf4d336112984368f83181ac5ffe948': 'perceptual speed',\n",
       " 'd4624ed8068d24948e18303212593cd6': 'visualization',\n",
       " '2f704538f6c9d6459a97314be98124e2': 'finger dexterity',\n",
       " '3161063d378eecc4581c5cdee46a2a6c': 'clerical',\n",
       " 'e55556364d2096578fd153e9800e826f': 'instructing',\n",
       " 'd24ffac92c24fb0e7bd1abc5fc3b6254': 'education and training',\n",
       " 'ccd7528fb38f16077360c5b67c9700c4': 'design',\n",
       " 'f6fbd9dea1fa8f899683ade8e7d87d60': 'learning strategies',\n",
       " '0de6170ccbed08e62b2e5862d5846a43': 'operation monitoring',\n",
       " '499f9d9b6722342608656559b15abd90': 'telecommunications',\n",
       " '8a7a3f1bce0958ae9f090683e5a925b7': 'management of personnel resources',\n",
       " '7acaed29536648e45ea2b82d45047fcf': 'far vision',\n",
       " '02e4c028f64f176de2f54bbc2f5403ce': 'visual color discrimination',\n",
       " '569da68cdcac43a3b4a0126ea9170570': 'communications and media',\n",
       " 'ced804d972b03cca6d523ec8925a7943': 'science',\n",
       " '41b2978a2c07c5f477e60f26372d6c85': 'negotiation',\n",
       " 'd9e964a222fdd9527319ad88adbfaa2e': 'memorization',\n",
       " 'ac47656fd51c2cd8037057262c910dc4': 'time sharing',\n",
       " 'e49986dae76619a3941d280ee14d38ae': 'public safety and security',\n",
       " 'f842344417ed2fc226d9cc00f9562458': 'hearing sensitivity',\n",
       " '096536ec43ce2a7de73031b271a1c132': 'auditory attention',\n",
       " 'a33662485eb4ad97096183db945308f4': 'production and processing',\n",
       " '4f75f97ac5b5f00f9420074d501f0803': 'law and government',\n",
       " 'f36c6ada3a808453a0bf241c74a4e994': 'equipment selection',\n",
       " '41ba88cfd476ee8d5e3d9f7cea62f051': 'management of financial resources',\n",
       " '894ca61c22718617c7e2404f582153da': 'management of material resources',\n",
       " '34d80517fe3bc143f9fc850386b8ffd7': 'arm-hand steadiness',\n",
       " 'e7b3e1c6a32c7247cd4857e4c3574165': 'control precision',\n",
       " 'bc6dcc49557388a9f53d6e642e73d7a2': 'manual dexterity',\n",
       " '00bff17fca67555d8d86e8ead86dcd70': 'economics and accounting',\n",
       " 'b42566382f2d3deeca56d3667004fc9e': 'operation and control',\n",
       " '7932d4705d002b47789c11edfaed685e': 'depth perception',\n",
       " 'aee597cd78f235c9db9d3ca987c7c846': 'personnel and human resources',\n",
       " '1c37a6e2bf157c0eff4665c57c52602d': 'psychology',\n",
       " '46b09f5f86f1ed46a8cb8e14d41418c7': 'physics',\n",
       " 'a2a9fbe67b4aa2b551ba0f3adac90a99': 'installation',\n",
       " '77d124811ae6887bd4ff42b0e2b49116': 'mechanical',\n",
       " 'ac2588d5d7676a49bdcd038e4a0a0ec5': 'sales and marketing',\n",
       " '2173ff3afd8d28192f7cf119af201940': 'sociology and anthropology',\n",
       " 'f5bc91b67dc30ad204158092116c4ed2': 'equipment maintenance',\n",
       " '433df1b945d32f17d9e61cf60a9bd06e': 'transportation',\n",
       " '1295a187473fd2f53427769fc7a4c02e': 'building and construction',\n",
       " '8fd068c8d9be73abfa678856177b6c40': 'chemistry',\n",
       " 'c34f03aa0a9c6edbe8ec50f4fa3687a8': 'repairing',\n",
       " '7aecc34a90868aac810bf3693b11534e': 'geography',\n",
       " '086f0063610283d1c23c44bca4ef92c0': 'philosophy and theology',\n",
       " '16b49a63ac3fcb90356c30187110ed94': 'foreign language',\n",
       " '437e4414c78611a270a5cedb4b4c0eed': 'multilimb coordination',\n",
       " '679fb7003e0aedc14891fcd15dd846c5': 'response orientation',\n",
       " '7a37ddb38441873334fd8ff07c17ad22': 'wrist-finger speed',\n",
       " '58eaf730050d2e23c7361fbb782e30a2': 'trunk strength',\n",
       " 'd0abc47e83e7d85921e113f85175547a': 'sound localization',\n",
       " '73d251075a710326ae436d9819246377': 'biology',\n",
       " '5e2bfe1fb8451158ff488c673535980c': 'fine arts',\n",
       " 'ac9f868b5c3e7cb3f31bcead5dadeb71': 'history and archeology',\n",
       " '0044971fda4a261b6049a63817913e95': 'medicine and dentistry',\n",
       " 'b36bc5f02fd641a126df999bcefa2777': 'therapy and counseling',\n",
       " '491d82be40d8395e347f9584124bccdd': 'spatial orientation',\n",
       " '7028f15ad274cb4d9505101b9c1306b1': 'rate control',\n",
       " '3def30a9bc4356164176ba909f40bab8': 'reaction time',\n",
       " '132aa9e82c5d4c8a395342d0a6e22c5c': 'speed of limb movement',\n",
       " '07b2ace822aff5d35dcf5ea264ef3b59': 'static strength',\n",
       " 'f8984e50675cf61e5ac1ea8f661e0ab2': 'explosive strength',\n",
       " 'd329d187dafb7546061ec7fbf137a2b4': 'dynamic strength',\n",
       " 'd63e35f948115e0c328a49db7bdb6e59': 'stamina',\n",
       " '6bf4290b983d58ce153af610008846c9': 'extent flexibility',\n",
       " 'f1fc61f279e3ad14863e582ca6fdc473': 'dynamic flexibility',\n",
       " '31bf3181813e21ffdfd76b5881fab066': 'gross body coordination',\n",
       " '04b0eaf624b2deb45ccd62cf6ec7c7bc': 'gross body equilibrium',\n",
       " '2616d64becb4f2c478dd42f501bbfbff': 'night vision',\n",
       " '776bf47111206d31ccf835650e1054cc': 'peripheral vision',\n",
       " 'c3b5ebd7b88c20786f11e87846c7d6ae': 'glare sensitivity',\n",
       " 'dfea9e8bc3c565ff9e64d4288b1c423d': 'food production'}"
      ]
     },
     "execution_count": 237,
     "metadata": {},
     "output_type": "execute_result"
    }
   ],
   "source": [
    "dict_job_skills_title"
   ]
  },
  {
   "cell_type": "code",
   "execution_count": 238,
   "metadata": {},
   "outputs": [],
   "source": [
    "df_complete['Skills'] = df_complete['Job Code']\n",
    "\n",
    "for job_uuid, skill in dict_job_skills_title.items():\n",
    "       #if job_uuid == df_complete['Job Code'][0]:\n",
    "        df_complete.loc[df_complete['Job Code'] == job_uuid , 'Skills'] = skill"
   ]
  },
  {
   "cell_type": "code",
   "execution_count": 331,
   "metadata": {},
   "outputs": [],
   "source": [
    "df_complete['Skills'] = df_complete['Skills'].str.replace('\\d+', '')\n",
    "df_complete['Skills'] = df_complete['Skills'].str.replace('abfbdfebaeebea', '')\n",
    "df_complete['Skills'] = df_complete['Skills'].str.replace('aceadcddddbafaab', '')\n",
    "df_complete['Skills'] = df_complete['Skills'].str.replace('aceeaaeeaaaecd', '')\n"
   ]
  },
  {
   "cell_type": "code",
   "execution_count": 436,
   "metadata": {},
   "outputs": [],
   "source": [
    "df_bonus3 = df_complete[['Education Level', 'Skills']].groupby('Education Level', as_index=False).count()"
   ]
  },
  {
   "cell_type": "code",
   "execution_count": 442,
   "metadata": {},
   "outputs": [
    {
     "data": {
      "text/html": [
       "<div>\n",
       "<style scoped>\n",
       "    .dataframe tbody tr th:only-of-type {\n",
       "        vertical-align: middle;\n",
       "    }\n",
       "\n",
       "    .dataframe tbody tr th {\n",
       "        vertical-align: top;\n",
       "    }\n",
       "\n",
       "    .dataframe thead th {\n",
       "        text-align: right;\n",
       "    }\n",
       "</style>\n",
       "<table border=\"1\" class=\"dataframe\">\n",
       "  <thead>\n",
       "    <tr style=\"text-align: right;\">\n",
       "      <th></th>\n",
       "      <th>Education Level</th>\n",
       "      <th>Skills</th>\n",
       "    </tr>\n",
       "  </thead>\n",
       "  <tbody>\n",
       "    <tr>\n",
       "      <th>0</th>\n",
       "      <td>high</td>\n",
       "      <td>2450</td>\n",
       "    </tr>\n",
       "    <tr>\n",
       "      <th>2</th>\n",
       "      <td>medium</td>\n",
       "      <td>2111</td>\n",
       "    </tr>\n",
       "    <tr>\n",
       "      <th>1</th>\n",
       "      <td>low</td>\n",
       "      <td>777</td>\n",
       "    </tr>\n",
       "    <tr>\n",
       "      <th>3</th>\n",
       "      <td>no education</td>\n",
       "      <td>364</td>\n",
       "    </tr>\n",
       "  </tbody>\n",
       "</table>\n",
       "</div>"
      ],
      "text/plain": [
       "  Education Level  Skills\n",
       "0            high    2450\n",
       "2          medium    2111\n",
       "1             low     777\n",
       "3    no education     364"
      ]
     },
     "execution_count": 442,
     "metadata": {},
     "output_type": "execute_result"
    }
   ],
   "source": [
    "df_bonus3.sort_values(by='Skills', ascending=False)"
   ]
  },
  {
   "cell_type": "code",
   "execution_count": 391,
   "metadata": {},
   "outputs": [],
   "source": [
    "df_complete['Skills count'] = df_complete.groupby('Skills')['Skills'].transform('count')"
   ]
  },
  {
   "cell_type": "code",
   "execution_count": 453,
   "metadata": {},
   "outputs": [],
   "source": [
    "group_1 = df_complete.groupby(['Education Level', 'Skills']).agg({'Skills': 'count'})\n",
    "group_2 = group_1['Skills'].groupby('Education Level', group_keys=False)\n",
    "group_3 = group_2.apply(lambda x: x.sort_values(ascending=True).head(10))"
   ]
  },
  {
   "cell_type": "code",
   "execution_count": 454,
   "metadata": {},
   "outputs": [
    {
     "data": {
      "text/html": [
       "<div>\n",
       "<style scoped>\n",
       "    .dataframe tbody tr th:only-of-type {\n",
       "        vertical-align: middle;\n",
       "    }\n",
       "\n",
       "    .dataframe tbody tr th {\n",
       "        vertical-align: top;\n",
       "    }\n",
       "\n",
       "    .dataframe thead th {\n",
       "        text-align: right;\n",
       "    }\n",
       "</style>\n",
       "<table border=\"1\" class=\"dataframe\">\n",
       "  <thead>\n",
       "    <tr style=\"text-align: right;\">\n",
       "      <th></th>\n",
       "      <th></th>\n",
       "      <th>Skills</th>\n",
       "    </tr>\n",
       "    <tr>\n",
       "      <th>Education Level</th>\n",
       "      <th>Skills</th>\n",
       "      <th></th>\n",
       "    </tr>\n",
       "  </thead>\n",
       "  <tbody>\n",
       "    <tr>\n",
       "      <th rowspan=\"10\" valign=\"top\">high</th>\n",
       "      <th>trunk strength</th>\n",
       "      <td>1</td>\n",
       "    </tr>\n",
       "    <tr>\n",
       "      <th>philosophy and theology</th>\n",
       "      <td>1</td>\n",
       "    </tr>\n",
       "    <tr>\n",
       "      <th>operation and control</th>\n",
       "      <td>1</td>\n",
       "    </tr>\n",
       "    <tr>\n",
       "      <th>night vision</th>\n",
       "      <td>1</td>\n",
       "    </tr>\n",
       "    <tr>\n",
       "      <th>debcfcbaef</th>\n",
       "      <td>2</td>\n",
       "    </tr>\n",
       "    <tr>\n",
       "      <th>cfbabaccfaddc</th>\n",
       "      <td>2</td>\n",
       "    </tr>\n",
       "    <tr>\n",
       "      <th>static strength</th>\n",
       "      <td>2</td>\n",
       "    </tr>\n",
       "    <tr>\n",
       "      <th>bbcaffccfac</th>\n",
       "      <td>2</td>\n",
       "    </tr>\n",
       "    <tr>\n",
       "      <th>stamina</th>\n",
       "      <td>2</td>\n",
       "    </tr>\n",
       "    <tr>\n",
       "      <th>dynamic strength</th>\n",
       "      <td>2</td>\n",
       "    </tr>\n",
       "    <tr>\n",
       "      <th rowspan=\"10\" valign=\"top\">low</th>\n",
       "      <th>equipment selection</th>\n",
       "      <td>1</td>\n",
       "    </tr>\n",
       "    <tr>\n",
       "      <th>wrist-finger speed</th>\n",
       "      <td>1</td>\n",
       "    </tr>\n",
       "    <tr>\n",
       "      <th>customer and personal service</th>\n",
       "      <td>1</td>\n",
       "    </tr>\n",
       "    <tr>\n",
       "      <th>debcfcbaef</th>\n",
       "      <td>1</td>\n",
       "    </tr>\n",
       "    <tr>\n",
       "      <th>deductive reasoning</th>\n",
       "      <td>1</td>\n",
       "    </tr>\n",
       "    <tr>\n",
       "      <th>economics and accounting</th>\n",
       "      <td>1</td>\n",
       "    </tr>\n",
       "    <tr>\n",
       "      <th>edaebadacdf</th>\n",
       "      <td>1</td>\n",
       "    </tr>\n",
       "    <tr>\n",
       "      <th>explosive strength</th>\n",
       "      <td>1</td>\n",
       "    </tr>\n",
       "    <tr>\n",
       "      <th>ffbecffcdcbe</th>\n",
       "      <td>1</td>\n",
       "    </tr>\n",
       "    <tr>\n",
       "      <th>sound localization</th>\n",
       "      <td>1</td>\n",
       "    </tr>\n",
       "    <tr>\n",
       "      <th rowspan=\"10\" valign=\"top\">medium</th>\n",
       "      <th>ceeebdfceb</th>\n",
       "      <td>1</td>\n",
       "    </tr>\n",
       "    <tr>\n",
       "      <th>debcfcbaef</th>\n",
       "      <td>1</td>\n",
       "    </tr>\n",
       "    <tr>\n",
       "      <th>law and government</th>\n",
       "      <td>1</td>\n",
       "    </tr>\n",
       "    <tr>\n",
       "      <th>foreign language</th>\n",
       "      <td>1</td>\n",
       "    </tr>\n",
       "    <tr>\n",
       "      <th>fddaadaabfaecafcc</th>\n",
       "      <td>2</td>\n",
       "    </tr>\n",
       "    <tr>\n",
       "      <th>cebbfbfdddde</th>\n",
       "      <td>2</td>\n",
       "    </tr>\n",
       "    <tr>\n",
       "      <th>cfbabaccfaddc</th>\n",
       "      <td>2</td>\n",
       "    </tr>\n",
       "    <tr>\n",
       "      <th>fbedafbeebcba</th>\n",
       "      <td>2</td>\n",
       "    </tr>\n",
       "    <tr>\n",
       "      <th>finger dexterity</th>\n",
       "      <td>2</td>\n",
       "    </tr>\n",
       "    <tr>\n",
       "      <th>spatial orientation</th>\n",
       "      <td>2</td>\n",
       "    </tr>\n",
       "    <tr>\n",
       "      <th rowspan=\"10\" valign=\"top\">no education</th>\n",
       "      <th>fbedafbeebcba</th>\n",
       "      <td>1</td>\n",
       "    </tr>\n",
       "    <tr>\n",
       "      <th>dynamic flexibility</th>\n",
       "      <td>1</td>\n",
       "    </tr>\n",
       "    <tr>\n",
       "      <th>night vision</th>\n",
       "      <td>1</td>\n",
       "    </tr>\n",
       "    <tr>\n",
       "      <th>deductive reasoning</th>\n",
       "      <td>1</td>\n",
       "    </tr>\n",
       "    <tr>\n",
       "      <th>debcfcbaef</th>\n",
       "      <td>1</td>\n",
       "    </tr>\n",
       "    <tr>\n",
       "      <th>history and archeology</th>\n",
       "      <td>1</td>\n",
       "    </tr>\n",
       "    <tr>\n",
       "      <th>customer and personal service</th>\n",
       "      <td>1</td>\n",
       "    </tr>\n",
       "    <tr>\n",
       "      <th>oral expression</th>\n",
       "      <td>1</td>\n",
       "    </tr>\n",
       "    <tr>\n",
       "      <th>trunk strength</th>\n",
       "      <td>1</td>\n",
       "    </tr>\n",
       "    <tr>\n",
       "      <th>peripheral vision</th>\n",
       "      <td>1</td>\n",
       "    </tr>\n",
       "  </tbody>\n",
       "</table>\n",
       "</div>"
      ],
      "text/plain": [
       "                                               Skills\n",
       "Education Level Skills                               \n",
       "high            trunk strength                      1\n",
       "                philosophy and theology             1\n",
       "                operation and control               1\n",
       "                night vision                        1\n",
       "                debcfcbaef                          2\n",
       "                cfbabaccfaddc                       2\n",
       "                static strength                     2\n",
       "                bbcaffccfac                         2\n",
       "                stamina                             2\n",
       "                dynamic strength                    2\n",
       "low             equipment selection                 1\n",
       "                wrist-finger speed                  1\n",
       "                customer and personal service       1\n",
       "                debcfcbaef                          1\n",
       "                deductive reasoning                 1\n",
       "                economics and accounting            1\n",
       "                edaebadacdf                         1\n",
       "                explosive strength                  1\n",
       "                ffbecffcdcbe                        1\n",
       "                sound localization                  1\n",
       "medium          ceeebdfceb                          1\n",
       "                debcfcbaef                          1\n",
       "                law and government                  1\n",
       "                foreign language                    1\n",
       "                fddaadaabfaecafcc                   2\n",
       "                cebbfbfdddde                        2\n",
       "                cfbabaccfaddc                       2\n",
       "                fbedafbeebcba                       2\n",
       "                finger dexterity                    2\n",
       "                spatial orientation                 2\n",
       "no education    fbedafbeebcba                       1\n",
       "                dynamic flexibility                 1\n",
       "                night vision                        1\n",
       "                deductive reasoning                 1\n",
       "                debcfcbaef                          1\n",
       "                history and archeology              1\n",
       "                customer and personal service       1\n",
       "                oral expression                     1\n",
       "                trunk strength                      1\n",
       "                peripheral vision                   1"
      ]
     },
     "execution_count": 454,
     "metadata": {},
     "output_type": "execute_result"
    }
   ],
   "source": [
    "group_4 = pd.DataFrame(group_3) \n",
    "group_4"
   ]
  },
  {
   "cell_type": "code",
   "execution_count": 443,
   "metadata": {},
   "outputs": [
    {
     "data": {
      "image/png": "[encoded data removed]",
      "text/plain": [
       "<Figure size 432x288 with 1 Axes>"
      ]
     },
     "metadata": {
      "needs_background": "light"
     },
     "output_type": "display_data"
    }
   ],
   "source": [
    "skills_graph = df_bonus3.plot(x='Education Level', y='Skills', kind='bar');"
   ]
  },
  {
   "cell_type": "code",
   "execution_count": 451,
   "metadata": {},
   "outputs": [
    {
     "ename": "AttributeError",
     "evalue": "'AxesSubplot' object has no attribute 'to_clipboard'",
     "output_type": "error",
     "traceback": [
      "\u001b[0;31m---------------------------------------------------------------------------\u001b[0m",
      "\u001b[0;31mAttributeError\u001b[0m                            Traceback (most recent call last)",
      "\u001b[0;32m<ipython-input-451-c43cc734f1d7>\u001b[0m in \u001b[0;36m<module>\u001b[0;34m\u001b[0m\n\u001b[0;32m----> 1\u001b[0;31m \u001b[0mskills_graph\u001b[0m\u001b[0;34m.\u001b[0m\u001b[0mto_clipboard\u001b[0m\u001b[0;34m(\u001b[0m\u001b[0;34m'/data/results/skills_level_education.png'\u001b[0m\u001b[0;34m)\u001b[0m\u001b[0;34m\u001b[0m\u001b[0;34m\u001b[0m\u001b[0m\n\u001b[0m",
      "\u001b[0;31mAttributeError\u001b[0m: 'AxesSubplot' object has no attribute 'to_clipboard'"
     ]
    }
   ],
   "source": [
    "skills_graph.to_clipboard('/data/results/skills_level_education.png')"
   ]
  },
  {
   "cell_type": "code",
   "execution_count": null,
   "metadata": {},
   "outputs": [],
   "source": []
  },
  {
   "cell_type": "code",
   "execution_count": null,
   "metadata": {},
   "outputs": [],
   "source": []
  }
 ],
 "metadata": {
  "kernelspec": {
   "display_name": "Python [conda env:ironhack_env]",
   "language": "python",
   "name": "conda-env-ironhack_env-py"
  },
  "language_info": {
   "codemirror_mode": {
    "name": "ipython",
    "version": 3
   },
   "file_extension": ".py",
   "mimetype": "text/x-python",
   "name": "python",
   "nbconvert_exporter": "python",
   "pygments_lexer": "ipython3",
   "version": "3.8.5"
  }
 },
 "nbformat": 4,
 "nbformat_minor": 4
}
