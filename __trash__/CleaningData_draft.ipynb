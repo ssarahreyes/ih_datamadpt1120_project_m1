{
 "cells": [
  {
   "cell_type": "code",
   "execution_count": 1,
   "metadata": {},
   "outputs": [],
   "source": [
    "import pandas as pd\n",
    "from sqlalchemy import create_engine\n",
    "from functools import reduce\n",
    "import re"
   ]
  },
  {
   "cell_type": "code",
   "execution_count": 2,
   "metadata": {},
   "outputs": [],
   "source": [
    "def get_tables(path):\n",
    "    \"\"\"\"\n",
    "    :param: path of the data base\n",
    "    :return: data frame with all the data, united by 'uuid'.\n",
    "    \"\"\"\n",
    "    engine = create_engine(f'sqlite:///{path}')\n",
    "    df_personal_info = pd.read_sql(\"SELECT * FROM personal_info\", engine)\n",
    "    df_country_info = pd.read_sql(\"SELECT * FROM country_info\", engine)\n",
    "    df_career_info = pd.read_sql(\"SELECT * FROM career_info\", engine)\n",
    "    df_poll_info = pd.read_sql(\"SELECT * FROM poll_info\", engine)\n",
    "\n",
    "    # getting the complete data frame\n",
    "    dfs_list = [df_personal_info, df_country_info, df_career_info, df_poll_info]\n",
    "    df_info = reduce(lambda left, right: pd.merge(left, right, on='uuid'), dfs_list)\n",
    "\n",
    "    # exporting the data frame to processed data folder.\n",
    "    #df_info.to_csv(f'../../data/processed/info_dataframe.csv', index=True)\n",
    "\n",
    "    return df_info"
   ]
  },
  {
   "cell_type": "code",
   "execution_count": 3,
   "metadata": {},
   "outputs": [],
   "source": [
    "df_complete = get_tables('../data/raw/raw_data_project_m1.db')"
   ]
  },
  {
   "cell_type": "code",
   "execution_count": 4,
   "metadata": {},
   "outputs": [],
   "source": [
    "# cleaning personal_info gender column.\n",
    "df_complete['gender'] = df_complete['gender'].astype(\"string\").str.capitalize()\n",
    "df_complete['gender'] = df_complete['gender'].replace('Fem', 'Female')"
   ]
  },
  {
   "cell_type": "code",
   "execution_count": 5,
   "metadata": {},
   "outputs": [],
   "source": [
    "# cleaning personal_info age_group column.\n",
    "df_complete['age_group'] = df_complete['age_group'].replace('juvenile', '14_25')"
   ]
  },
  {
   "cell_type": "code",
   "execution_count": 6,
   "metadata": {},
   "outputs": [],
   "source": [
    "# cleaning personal_info age column.\n",
    "df_complete['age'] = df_complete['age'].astype(\"string\")\n",
    "df_complete['age'] = df_complete['age'].str.replace(' years old', '')\n",
    "\n",
    "for x in range(1980, 2050):\n",
    "    df_complete['age'] = df_complete['age'].str.replace(f'{x}', f'{2016 - x}')\n",
    "\n",
    "df_complete['age'] = df_complete['age'].astype('int64')"
   ]
  },
  {
   "cell_type": "code",
   "execution_count": 7,
   "metadata": {},
   "outputs": [],
   "source": [
    "#Hacemos filtro para ver mejor los elemntos correspondientes a 'juvenile'. Max y min pertenecen al bin 14-25, \n",
    "#porque 2016-1991 = 25 y 2016-2002=14, por lo que entendemos que todos pertecen a la msima categoría.\n",
    "#juvenile_filter = df_personal_info['age_group'].str.contains(\"juvenile\")\n",
    "#print(df_personal_info[juvenile_filter].max())\n",
    "#print(df_personal_info[juvenile_filter].min())"
   ]
  },
  {
   "cell_type": "code",
   "execution_count": 8,
   "metadata": {},
   "outputs": [],
   "source": [
    "# cleaning country_info rural column.\n",
    "df_complete['rural'] = df_complete['rural'].str.lower()"
   ]
  },
  {
   "cell_type": "code",
   "execution_count": 9,
   "metadata": {},
   "outputs": [],
   "source": [
    "# cleaning career_info dem_education_level column.\n",
    "df_complete['dem_education_level'] = df_complete['dem_education_level'].replace('no', 'no education')\n",
    "df_complete['dem_education_level'] = df_complete['dem_education_level'].fillna('no education')"
   ]
  },
  {
   "cell_type": "code",
   "execution_count": 10,
   "metadata": {},
   "outputs": [],
   "source": [
    "# cleaning career_info dem_education_level column.\n",
    "df_complete['dem_education_level'] = df_complete['dem_education_level'].replace('no', 'no education')\n",
    "df_complete['dem_education_level'] = df_complete['dem_education_level'].fillna('no education')"
   ]
  },
  {
   "cell_type": "code",
   "execution_count": 11,
   "metadata": {},
   "outputs": [],
   "source": [
    "# cleaning def_has_chidren\n",
    "df_complete['dem_has_children'] = df_complete['dem_has_children'].str.lower()"
   ]
  },
  {
   "cell_type": "code",
   "execution_count": 12,
   "metadata": {},
   "outputs": [],
   "source": [
    "#connecting API\n",
    "import json\n",
    "import requests"
   ]
  },
  {
   "cell_type": "markdown",
   "metadata": {},
   "source": [
    "## API"
   ]
  },
  {
   "cell_type": "code",
   "execution_count": 13,
   "metadata": {},
   "outputs": [],
   "source": [
    "response = requests.get(f'http://api.dataatwork.org/v1/jobs') \n",
    "json_data = response.json()\n",
    "#problema: solo me salen 20"
   ]
  },
  {
   "cell_type": "code",
   "execution_count": 14,
   "metadata": {},
   "outputs": [],
   "source": [
    "#response = requests.get('http://api.dataatwork.org/v1/jobs/uuid')\n",
    "#results = response.json()\n",
    "#print(len(results))\n",
    "#solo saca 21 pero necesito más. lo que vamos a hacer es que nos saque los datos \n",
    "# para cada uuid, para eso necesitamos saber cuántos uuids hay."
   ]
  },
  {
   "cell_type": "code",
   "execution_count": 15,
   "metadata": {},
   "outputs": [],
   "source": [
    "job_code_unique = df_complete['normalized_job_code'].unique()\n",
    "#len(job_code_unique)"
   ]
  },
  {
   "cell_type": "code",
   "execution_count": 16,
   "metadata": {},
   "outputs": [],
   "source": [
    "list_uuid_key = []\n",
    "list_title_value = []\n",
    "\n",
    "for code in job_code_unique:\n",
    "    response = requests.get(f'http://api.dataatwork.org/v1/jobs/{code}').json()\n",
    "    if list(response.keys())[0] == 'error':\n",
    "        pass\n",
    "    else:\n",
    "        list_uuid_key.append(response['uuid'])\n",
    "        list_title_value.append(response['title'])"
   ]
  },
  {
   "cell_type": "code",
   "execution_count": 17,
   "metadata": {},
   "outputs": [],
   "source": [
    "dict_uuid_jobs_title = dict(zip(list_uuid_key , list_title_value))"
   ]
  },
  {
   "cell_type": "code",
   "execution_count": 18,
   "metadata": {},
   "outputs": [],
   "source": [
    "df_complete['Job Title'] = df_complete['normalized_job_code']\n",
    "\n",
    "for uuid, title in dict_uuid_jobs_title.items():\n",
    "    df_complete.loc[df_complete['normalized_job_code'] == uuid , 'Job Title'] = title"
   ]
  },
  {
   "cell_type": "code",
   "execution_count": 19,
   "metadata": {},
   "outputs": [],
   "source": [
    "df_complete['Job Title'] = df_complete['Job Title'].fillna('No job')"
   ]
  },
  {
   "cell_type": "markdown",
   "metadata": {},
   "source": [
    "## Web scraping"
   ]
  },
  {
   "cell_type": "code",
   "execution_count": 20,
   "metadata": {},
   "outputs": [],
   "source": [
    "import requests\n",
    "from bs4 import BeautifulSoup"
   ]
  },
  {
   "cell_type": "code",
   "execution_count": 21,
   "metadata": {},
   "outputs": [],
   "source": [
    "url = 'https://ec.europa.eu/eurostat/statistics-explained/index.php/Glossary:Country_codes'\n",
    "html = requests.get(url).content\n",
    "soup = BeautifulSoup(html, 'html.parser')"
   ]
  },
  {
   "cell_type": "code",
   "execution_count": 22,
   "metadata": {},
   "outputs": [],
   "source": [
    "table = soup.find_all('div' , {'class': 'mw-content-ltr'})[0]\n",
    "table_countries = table.find_all('table')\n",
    "all_info_countries = [info.text for info in table_countries]"
   ]
  },
  {
   "cell_type": "code",
   "execution_count": 23,
   "metadata": {},
   "outputs": [],
   "source": [
    "# cleaning the info countries.\n",
    "countries_without_spaces = [re.sub(r'\\s' , '' , x) for x in all_info_countries]\n",
    "countries_without_symbols = [re.sub(r'\\*' , '' , x) for x in countries_without_spaces]\n",
    "countries_without_squarebrackets = [re.sub(r'\\[\\d\\]' , '' , x) for x in countries_without_symbols]\n",
    "countries_clean = ''.join(countries_without_squarebrackets) #unimos todo en una string para poder hacer split"
   ]
  },
  {
   "cell_type": "code",
   "execution_count": 24,
   "metadata": {},
   "outputs": [],
   "source": [
    "country_value = re.split(r'\\(\\w{0,7}\\)' , countries_clean)\n",
    "country_key = re.findall(r'\\(\\w{0,7}\\)' , countries_clean) #extract the codes\n",
    "country_key = [re.sub(r'\\(|\\)' , '' , x) for x in country_key] #without parenthesis.\n",
    "dic_countries = dict(zip(country_key, country_value))"
   ]
  },
  {
   "cell_type": "code",
   "execution_count": 25,
   "metadata": {},
   "outputs": [],
   "source": [
    "df_complete['Country'] = df_complete['country_code']\n",
    "\n",
    "for code, name in dic_countries.items():\n",
    "    df_complete.loc[df_complete['country_code'] == code , 'Country'] = name"
   ]
  },
  {
   "cell_type": "markdown",
   "metadata": {},
   "source": [
    "## Renaming and adding Quality and Percentage columns"
   ]
  },
  {
   "cell_type": "code",
   "execution_count": 26,
   "metadata": {},
   "outputs": [],
   "source": [
    "# renaming columns\n",
    "df_complete.rename(columns={'age': 'Age',\n",
    "                           'gender': 'Gender',\n",
    "                           'dem_has_children': 'Childrens',\n",
    "                           'age_group': 'Age Group',\n",
    "                           'country_code': 'Country Code',\n",
    "                           'rural': 'Area',\n",
    "                           'dem_education_level': 'Education Level',\n",
    "                           'dem_full_time_job': 'Full Time Job',\n",
    "                           'normalized_job_code': 'Job Code',\n",
    "                           'question_bbi_2016wave4_basicincome_awareness': 'Q1: awareness',\n",
    "                           'question_bbi_2016wave4_basicincome_vote': 'Q2: vote',\n",
    "                           'question_bbi_2016wave4_basicincome_effect': 'Q3: effect',\n",
    "                           'question_bbi_2016wave4_basicincome_argumentsfor': 'Q4: arguments for',\n",
    "                           'question_bbi_2016wave4_basicincome_argumentsagainst': 'Q5: arguments against'}, inplace=True)"
   ]
  },
  {
   "cell_type": "code",
   "execution_count": 29,
   "metadata": {},
   "outputs": [],
   "source": [
    "df_complete['Quantity'] = df_complete.groupby('uuid')['uuid'].transform('count').astype(\"int64\")"
   ]
  },
  {
   "cell_type": "code",
   "execution_count": 30,
   "metadata": {},
   "outputs": [
    {
     "data": {
      "text/plain": [
       "['Austria',\n",
       " 'Belgium',\n",
       " 'Bulgaria',\n",
       " 'Cyprus',\n",
       " 'Czechia',\n",
       " 'Germany',\n",
       " 'Denmark',\n",
       " 'Estonia',\n",
       " 'Spain',\n",
       " 'Finland',\n",
       " 'France',\n",
       " 'GB',\n",
       " 'GR',\n",
       " 'Croatia',\n",
       " 'Hungary',\n",
       " 'Ireland',\n",
       " 'Italy',\n",
       " 'Lithuania',\n",
       " 'Luxembourg',\n",
       " 'Latvia',\n",
       " 'Malta',\n",
       " 'Netherlands',\n",
       " 'Poland',\n",
       " 'Portugal',\n",
       " 'Romania',\n",
       " 'Sweden',\n",
       " 'Slovenia',\n",
       " 'Slovakia']"
      ]
     },
     "execution_count": 30,
     "metadata": {},
     "output_type": "execute_result"
    }
   ],
   "source": [
    "# adding percentage column\n",
    "# votos por país\n",
    "list_countries =df_complete['Country'].unique().tolist()\n",
    "list_countries"
   ]
  },
  {
   "cell_type": "code",
   "execution_count": 31,
   "metadata": {},
   "outputs": [],
   "source": [
    "# total people per country column.\n",
    "df_complete['Total Votes Per Country'] = 0\n",
    "\n",
    "for country in list_countries:\n",
    "    df_complete.loc[df_complete['Country'] == country , 'Total Votes Per Country'] = df_complete.loc[df_complete['Country'].str.contains(country) , 'Quantity'].sum()"
   ]
  },
  {
   "cell_type": "code",
   "execution_count": 33,
   "metadata": {},
   "outputs": [],
   "source": [
    "df_complete['Percentage'] = (df_complete['Total Votes Per Country'] / df_complete['Total Votes Per Country'].sum()) \n",
    "#df_complete['Percentage'] = df_complete['Percentage'].astype(float).map(lambda x: '{:.4%}'.format(x)) # adding the %"
   ]
  },
  {
   "cell_type": "code",
   "execution_count": 34,
   "metadata": {},
   "outputs": [
    {
     "data": {
      "text/html": [
       "<div>\n",
       "<style scoped>\n",
       "    .dataframe tbody tr th:only-of-type {\n",
       "        vertical-align: middle;\n",
       "    }\n",
       "\n",
       "    .dataframe tbody tr th {\n",
       "        vertical-align: top;\n",
       "    }\n",
       "\n",
       "    .dataframe thead th {\n",
       "        text-align: right;\n",
       "    }\n",
       "</style>\n",
       "<table border=\"1\" class=\"dataframe\">\n",
       "  <thead>\n",
       "    <tr style=\"text-align: right;\">\n",
       "      <th></th>\n",
       "      <th>Country</th>\n",
       "      <th>Job Title</th>\n",
       "      <th>Age</th>\n",
       "      <th>Quantity</th>\n",
       "      <th>Percentage</th>\n",
       "    </tr>\n",
       "  </thead>\n",
       "  <tbody>\n",
       "    <tr>\n",
       "      <th>0</th>\n",
       "      <td>Austria</td>\n",
       "      <td>Automatic Data Processing Customer Liaison (AD...</td>\n",
       "      <td>35.50</td>\n",
       "      <td>2</td>\n",
       "      <td>0.000031</td>\n",
       "    </tr>\n",
       "    <tr>\n",
       "      <th>1</th>\n",
       "      <td>Austria</td>\n",
       "      <td>Automatic Data Processing Planner</td>\n",
       "      <td>52.50</td>\n",
       "      <td>2</td>\n",
       "      <td>0.000031</td>\n",
       "    </tr>\n",
       "    <tr>\n",
       "      <th>2</th>\n",
       "      <td>Austria</td>\n",
       "      <td>Automatic Data Processing Systems Security Spe...</td>\n",
       "      <td>37.00</td>\n",
       "      <td>2</td>\n",
       "      <td>0.000031</td>\n",
       "    </tr>\n",
       "    <tr>\n",
       "      <th>3</th>\n",
       "      <td>Austria</td>\n",
       "      <td>Clinical Data Specialist</td>\n",
       "      <td>39.00</td>\n",
       "      <td>1</td>\n",
       "      <td>0.000015</td>\n",
       "    </tr>\n",
       "    <tr>\n",
       "      <th>4</th>\n",
       "      <td>Austria</td>\n",
       "      <td>Computer or Data Processing Systems Consultant</td>\n",
       "      <td>44.67</td>\n",
       "      <td>3</td>\n",
       "      <td>0.000046</td>\n",
       "    </tr>\n",
       "    <tr>\n",
       "      <th>...</th>\n",
       "      <td>...</td>\n",
       "      <td>...</td>\n",
       "      <td>...</td>\n",
       "      <td>...</td>\n",
       "      <td>...</td>\n",
       "    </tr>\n",
       "    <tr>\n",
       "      <th>1861</th>\n",
       "      <td>Sweden</td>\n",
       "      <td>Naval Tactical Data System--Combat Information...</td>\n",
       "      <td>27.00</td>\n",
       "      <td>1</td>\n",
       "      <td>0.000020</td>\n",
       "    </tr>\n",
       "    <tr>\n",
       "      <th>1862</th>\n",
       "      <td>Sweden</td>\n",
       "      <td>No job</td>\n",
       "      <td>31.07</td>\n",
       "      <td>81</td>\n",
       "      <td>0.001648</td>\n",
       "    </tr>\n",
       "    <tr>\n",
       "      <th>1863</th>\n",
       "      <td>Sweden</td>\n",
       "      <td>Oracle Database Administrator (Oracle DBA)</td>\n",
       "      <td>35.00</td>\n",
       "      <td>1</td>\n",
       "      <td>0.000020</td>\n",
       "    </tr>\n",
       "    <tr>\n",
       "      <th>1864</th>\n",
       "      <td>Sweden</td>\n",
       "      <td>SQL Database Administrator</td>\n",
       "      <td>45.00</td>\n",
       "      <td>1</td>\n",
       "      <td>0.000020</td>\n",
       "    </tr>\n",
       "    <tr>\n",
       "      <th>1865</th>\n",
       "      <td>Sweden</td>\n",
       "      <td>Survey Data Technician</td>\n",
       "      <td>46.00</td>\n",
       "      <td>1</td>\n",
       "      <td>0.000020</td>\n",
       "    </tr>\n",
       "  </tbody>\n",
       "</table>\n",
       "<p>1866 rows × 5 columns</p>\n",
       "</div>"
      ],
      "text/plain": [
       "      Country                                          Job Title    Age  \\\n",
       "0     Austria  Automatic Data Processing Customer Liaison (AD...  35.50   \n",
       "1     Austria                  Automatic Data Processing Planner  52.50   \n",
       "2     Austria  Automatic Data Processing Systems Security Spe...  37.00   \n",
       "3     Austria                           Clinical Data Specialist  39.00   \n",
       "4     Austria     Computer or Data Processing Systems Consultant  44.67   \n",
       "...       ...                                                ...    ...   \n",
       "1861   Sweden  Naval Tactical Data System--Combat Information...  27.00   \n",
       "1862   Sweden                                             No job  31.07   \n",
       "1863   Sweden         Oracle Database Administrator (Oracle DBA)  35.00   \n",
       "1864   Sweden                         SQL Database Administrator  45.00   \n",
       "1865   Sweden                             Survey Data Technician  46.00   \n",
       "\n",
       "      Quantity  Percentage  \n",
       "0            2    0.000031  \n",
       "1            2    0.000031  \n",
       "2            2    0.000031  \n",
       "3            1    0.000015  \n",
       "4            3    0.000046  \n",
       "...        ...         ...  \n",
       "1861         1    0.000020  \n",
       "1862        81    0.001648  \n",
       "1863         1    0.000020  \n",
       "1864         1    0.000020  \n",
       "1865         1    0.000020  \n",
       "\n",
       "[1866 rows x 5 columns]"
      ]
     },
     "execution_count": 34,
     "metadata": {},
     "output_type": "execute_result"
    }
   ],
   "source": [
    "df_result = df_complete[['Country', 'Job Title', 'Age', 'Quantity', 'Percentage']].groupby(['Country', 'Job Title'], as_index=False).agg(Age = ('Age', 'mean'), Quantity = ('Quantity', 'sum'), Percentage=('Percentage', 'sum'))\n",
    "#df_result['Age'] = df_result['Age'].astype(float).round(3)\n",
    "df_result = df_result.round({'Age': 2, 'Percentage': 6})\n",
    "df_result"
   ]
  },
  {
   "cell_type": "code",
   "execution_count": 35,
   "metadata": {},
   "outputs": [
    {
     "data": {
      "text/html": [
       "<div>\n",
       "<style scoped>\n",
       "    .dataframe tbody tr th:only-of-type {\n",
       "        vertical-align: middle;\n",
       "    }\n",
       "\n",
       "    .dataframe tbody tr th {\n",
       "        vertical-align: top;\n",
       "    }\n",
       "\n",
       "    .dataframe thead th {\n",
       "        text-align: right;\n",
       "    }\n",
       "</style>\n",
       "<table border=\"1\" class=\"dataframe\">\n",
       "  <thead>\n",
       "    <tr style=\"text-align: right;\">\n",
       "      <th></th>\n",
       "      <th>Country</th>\n",
       "      <th>Job Title</th>\n",
       "      <th>Age</th>\n",
       "      <th>Quantity</th>\n",
       "      <th>Percentage</th>\n",
       "    </tr>\n",
       "  </thead>\n",
       "  <tbody>\n",
       "    <tr>\n",
       "      <th>1669</th>\n",
       "      <td>Spain</td>\n",
       "      <td>Analytical Data Miner</td>\n",
       "      <td>22.00</td>\n",
       "      <td>1</td>\n",
       "      <td>0.000117</td>\n",
       "    </tr>\n",
       "    <tr>\n",
       "      <th>1670</th>\n",
       "      <td>Spain</td>\n",
       "      <td>Automatic Data Processing Customer Liaison (AD...</td>\n",
       "      <td>39.73</td>\n",
       "      <td>11</td>\n",
       "      <td>0.001285</td>\n",
       "    </tr>\n",
       "    <tr>\n",
       "      <th>1671</th>\n",
       "      <td>Spain</td>\n",
       "      <td>Automatic Data Processing Planner</td>\n",
       "      <td>40.00</td>\n",
       "      <td>9</td>\n",
       "      <td>0.001051</td>\n",
       "    </tr>\n",
       "    <tr>\n",
       "      <th>1672</th>\n",
       "      <td>Spain</td>\n",
       "      <td>Automatic Data Processing Planner (ADP Planner)</td>\n",
       "      <td>46.00</td>\n",
       "      <td>11</td>\n",
       "      <td>0.001285</td>\n",
       "    </tr>\n",
       "    <tr>\n",
       "      <th>1673</th>\n",
       "      <td>Spain</td>\n",
       "      <td>Automatic Data Processing Systems Security Spe...</td>\n",
       "      <td>46.43</td>\n",
       "      <td>7</td>\n",
       "      <td>0.000818</td>\n",
       "    </tr>\n",
       "    <tr>\n",
       "      <th>...</th>\n",
       "      <td>...</td>\n",
       "      <td>...</td>\n",
       "      <td>...</td>\n",
       "      <td>...</td>\n",
       "      <td>...</td>\n",
       "    </tr>\n",
       "    <tr>\n",
       "      <th>1793</th>\n",
       "      <td>Spain</td>\n",
       "      <td>SQL Database Administrator</td>\n",
       "      <td>49.38</td>\n",
       "      <td>8</td>\n",
       "      <td>0.000935</td>\n",
       "    </tr>\n",
       "    <tr>\n",
       "      <th>1794</th>\n",
       "      <td>Spain</td>\n",
       "      <td>Scientific Database Curator</td>\n",
       "      <td>44.00</td>\n",
       "      <td>2</td>\n",
       "      <td>0.000234</td>\n",
       "    </tr>\n",
       "    <tr>\n",
       "      <th>1795</th>\n",
       "      <td>Spain</td>\n",
       "      <td>Survey Data Technician</td>\n",
       "      <td>19.00</td>\n",
       "      <td>1</td>\n",
       "      <td>0.000117</td>\n",
       "    </tr>\n",
       "    <tr>\n",
       "      <th>1796</th>\n",
       "      <td>Spain</td>\n",
       "      <td>Voice and Data Technician</td>\n",
       "      <td>32.50</td>\n",
       "      <td>2</td>\n",
       "      <td>0.000234</td>\n",
       "    </tr>\n",
       "    <tr>\n",
       "      <th>1797</th>\n",
       "      <td>Spain</td>\n",
       "      <td>Weight in Motion Field Data Collection Technician</td>\n",
       "      <td>36.75</td>\n",
       "      <td>4</td>\n",
       "      <td>0.000467</td>\n",
       "    </tr>\n",
       "  </tbody>\n",
       "</table>\n",
       "<p>129 rows × 5 columns</p>\n",
       "</div>"
      ],
      "text/plain": [
       "     Country                                          Job Title    Age  \\\n",
       "1669   Spain                              Analytical Data Miner  22.00   \n",
       "1670   Spain  Automatic Data Processing Customer Liaison (AD...  39.73   \n",
       "1671   Spain                  Automatic Data Processing Planner  40.00   \n",
       "1672   Spain    Automatic Data Processing Planner (ADP Planner)  46.00   \n",
       "1673   Spain  Automatic Data Processing Systems Security Spe...  46.43   \n",
       "...      ...                                                ...    ...   \n",
       "1793   Spain                         SQL Database Administrator  49.38   \n",
       "1794   Spain                        Scientific Database Curator  44.00   \n",
       "1795   Spain                             Survey Data Technician  19.00   \n",
       "1796   Spain                          Voice and Data Technician  32.50   \n",
       "1797   Spain  Weight in Motion Field Data Collection Technician  36.75   \n",
       "\n",
       "      Quantity  Percentage  \n",
       "1669         1    0.000117  \n",
       "1670        11    0.001285  \n",
       "1671         9    0.001051  \n",
       "1672        11    0.001285  \n",
       "1673         7    0.000818  \n",
       "...        ...         ...  \n",
       "1793         8    0.000935  \n",
       "1794         2    0.000234  \n",
       "1795         1    0.000117  \n",
       "1796         2    0.000234  \n",
       "1797         4    0.000467  \n",
       "\n",
       "[129 rows x 5 columns]"
      ]
     },
     "execution_count": 35,
     "metadata": {},
     "output_type": "execute_result"
    }
   ],
   "source": [
    "df_result[df_result['Country'] == 'Spain']"
   ]
  },
  {
   "cell_type": "code",
   "execution_count": 36,
   "metadata": {},
   "outputs": [],
   "source": [
    "#bonus 1: table about votes."
   ]
  },
  {
   "cell_type": "code",
   "execution_count": 37,
   "metadata": {},
   "outputs": [],
   "source": [
    "# cleaniin Q3 column\n",
    "df_complete['Q3: effect'] = df_complete['Q3: effect'].astype(\"string\")\n",
    "df_complete['Q3: effect'] = df_complete['Q3: effect'].replace(\"‰Û_ \", \"\")"
   ]
  },
  {
   "cell_type": "code",
   "execution_count": 38,
   "metadata": {},
   "outputs": [],
   "source": [
    "df_complete['Q3: effect'] = [re.sub(r'\\‰Û_', '', x) for x in df_complete['Q3: effect']]"
   ]
  },
  {
   "cell_type": "code",
   "execution_count": 39,
   "metadata": {},
   "outputs": [
    {
     "data": {
      "text/html": [
       "<div>\n",
       "<style scoped>\n",
       "    .dataframe tbody tr th:only-of-type {\n",
       "        vertical-align: middle;\n",
       "    }\n",
       "\n",
       "    .dataframe tbody tr th {\n",
       "        vertical-align: top;\n",
       "    }\n",
       "\n",
       "    .dataframe thead th {\n",
       "        text-align: right;\n",
       "    }\n",
       "</style>\n",
       "<table border=\"1\" class=\"dataframe\">\n",
       "  <thead>\n",
       "    <tr style=\"text-align: right;\">\n",
       "      <th></th>\n",
       "      <th>uuid</th>\n",
       "      <th>Age</th>\n",
       "      <th>Gender</th>\n",
       "      <th>Childrens</th>\n",
       "      <th>Age Group</th>\n",
       "      <th>Country Code</th>\n",
       "      <th>Area</th>\n",
       "      <th>Education Level</th>\n",
       "      <th>Full Time Job</th>\n",
       "      <th>Job Code</th>\n",
       "      <th>Q1: awareness</th>\n",
       "      <th>Q2: vote</th>\n",
       "      <th>Q3: effect</th>\n",
       "      <th>Q4: arguments for</th>\n",
       "      <th>Q5: arguments against</th>\n",
       "      <th>Job Title</th>\n",
       "      <th>Country</th>\n",
       "      <th>Total Votes Per Country</th>\n",
       "      <th>Quantity</th>\n",
       "      <th>Percentage</th>\n",
       "    </tr>\n",
       "  </thead>\n",
       "  <tbody>\n",
       "    <tr>\n",
       "      <th>0</th>\n",
       "      <td>f6e7ee00-deac-0133-4de8-0a81e8b09a82</td>\n",
       "      <td>61</td>\n",
       "      <td>Male</td>\n",
       "      <td>no</td>\n",
       "      <td>40_65</td>\n",
       "      <td>AT</td>\n",
       "      <td>countryside</td>\n",
       "      <td>no education</td>\n",
       "      <td>no</td>\n",
       "      <td>None</td>\n",
       "      <td>I know something about it</td>\n",
       "      <td>I would not vote</td>\n",
       "      <td>None of the above</td>\n",
       "      <td>None of the above</td>\n",
       "      <td>None of the above</td>\n",
       "      <td>No job</td>\n",
       "      <td>Austria</td>\n",
       "      <td>133</td>\n",
       "      <td>1</td>\n",
       "      <td>0.000015</td>\n",
       "    </tr>\n",
       "    <tr>\n",
       "      <th>1</th>\n",
       "      <td>54f0f1c0-dda1-0133-a559-0a81e8b09a82</td>\n",
       "      <td>57</td>\n",
       "      <td>Male</td>\n",
       "      <td>yes</td>\n",
       "      <td>40_65</td>\n",
       "      <td>AT</td>\n",
       "      <td>urban</td>\n",
       "      <td>high</td>\n",
       "      <td>yes</td>\n",
       "      <td>861a9b9151e11362eb3c77ca914172d0</td>\n",
       "      <td>I understand it fully</td>\n",
       "      <td>I would probably vote for it</td>\n",
       "      <td>A basic income would not affect my work choices</td>\n",
       "      <td>It increases appreciation for household work a...</td>\n",
       "      <td>It might encourage people to stop working</td>\n",
       "      <td>Automatic Data Processing Planner</td>\n",
       "      <td>Austria</td>\n",
       "      <td>133</td>\n",
       "      <td>1</td>\n",
       "      <td>0.000015</td>\n",
       "    </tr>\n",
       "  </tbody>\n",
       "</table>\n",
       "</div>"
      ],
      "text/plain": [
       "                                   uuid  Age Gender Childrens Age Group  \\\n",
       "0  f6e7ee00-deac-0133-4de8-0a81e8b09a82   61   Male        no     40_65   \n",
       "1  54f0f1c0-dda1-0133-a559-0a81e8b09a82   57   Male       yes     40_65   \n",
       "\n",
       "  Country Code         Area Education Level Full Time Job  \\\n",
       "0           AT  countryside    no education            no   \n",
       "1           AT        urban            high           yes   \n",
       "\n",
       "                           Job Code              Q1: awareness  \\\n",
       "0                              None  I know something about it   \n",
       "1  861a9b9151e11362eb3c77ca914172d0      I understand it fully   \n",
       "\n",
       "                       Q2: vote  \\\n",
       "0              I would not vote   \n",
       "1  I would probably vote for it   \n",
       "\n",
       "                                        Q3: effect  \\\n",
       "0                                None of the above   \n",
       "1  A basic income would not affect my work choices   \n",
       "\n",
       "                                   Q4: arguments for  \\\n",
       "0                                  None of the above   \n",
       "1  It increases appreciation for household work a...   \n",
       "\n",
       "                       Q5: arguments against  \\\n",
       "0                          None of the above   \n",
       "1  It might encourage people to stop working   \n",
       "\n",
       "                           Job Title  Country  Total Votes Per Country  \\\n",
       "0                             No job  Austria                      133   \n",
       "1  Automatic Data Processing Planner  Austria                      133   \n",
       "\n",
       "   Quantity  Percentage  \n",
       "0         1    0.000015  \n",
       "1         1    0.000015  "
      ]
     },
     "execution_count": 39,
     "metadata": {},
     "output_type": "execute_result"
    }
   ],
   "source": [
    "df_complete.head(2)"
   ]
  },
  {
   "cell_type": "code",
   "execution_count": 47,
   "metadata": {},
   "outputs": [],
   "source": [
    "# Q4 vamos a unirlo todo en una sola lista para ver los valores únicos.\n",
    "arguments_for = [info for info in df_complete['Q4: arguments for']]"
   ]
  },
  {
   "cell_type": "code",
   "execution_count": 48,
   "metadata": {},
   "outputs": [],
   "source": [
    "def convert_list_to_string(org_list, seperator=' '):\n",
    "    \"\"\" Convert list to string, by joining all item in list with given separator.\n",
    "        Returns the concatenated string \"\"\"\n",
    "    return seperator.join(org_list)"
   ]
  },
  {
   "cell_type": "code",
   "execution_count": 49,
   "metadata": {},
   "outputs": [],
   "source": [
    "all_arguments = convert_list_to_string(arguments_for)"
   ]
  },
  {
   "cell_type": "code",
   "execution_count": 50,
   "metadata": {},
   "outputs": [],
   "source": [
    "arguments_split_mayus = re.findall('[A-Z][^A-Z]*', all_arguments)"
   ]
  },
  {
   "cell_type": "code",
   "execution_count": 51,
   "metadata": {},
   "outputs": [],
   "source": [
    "arguments_without_verticalbar = [re.sub('\\ \\| +', '', x) for x in arguments_split_mayus]"
   ]
  },
  {
   "cell_type": "code",
   "execution_count": 52,
   "metadata": {},
   "outputs": [],
   "source": [
    "arguments_cleaned = [re.sub(' [^ ]*$', '', x) for x in arguments_without_verticalbar]\n",
    "arguments_cleaned_set = set(arguments_cleaned)"
   ]
  },
  {
   "cell_type": "code",
   "execution_count": 53,
   "metadata": {},
   "outputs": [
    {
     "data": {
      "text/plain": [
       "{'It creates more equality of',\n",
       " 'It creates more equality of opportunity',\n",
       " 'It encourages financial independence and',\n",
       " 'It encourages financial independence and self-responsibility',\n",
       " 'It increases appreciation for household work and',\n",
       " 'It increases appreciation for household work and volunteering',\n",
       " 'It increases solidarity, because it is funded by',\n",
       " 'It increases solidarity, because it is funded by everyone',\n",
       " 'It reduces anxiety about financing basic',\n",
       " 'It reduces anxiety about financing basic needs',\n",
       " 'It reduces bureaucracy and administrative',\n",
       " 'It reduces bureaucracy and administrative expenses',\n",
       " 'None of the above'}"
      ]
     },
     "execution_count": 53,
     "metadata": {},
     "output_type": "execute_result"
    }
   ],
   "source": [
    "arguments_cleaned_set"
   ]
  },
  {
   "cell_type": "code",
   "execution_count": 56,
   "metadata": {},
   "outputs": [],
   "source": [
    "more_equality = sum(map(lambda x : x=='It creates more equality of' or x=='It creates more equality of opportunity', arguments_cleaned))\n",
    "financial_independence = sum(map(lambda x : x == 'It encourages financial independence and' or x == 'It encourages financial independence and self-responsibility', arguments_cleaned))\n",
    "household_appreciation = sum(map(lambda x : x== 'It increases appreciation for household work and' or x == 'It increases appreciation for household work and volunteering', arguments_cleaned))\n",
    "solidarity = sum(map(lambda x : x== 'It increases solidarity, because it is funded by' or x == 'It increases solidarity, because it is funded by everyone', arguments_cleaned))\n",
    "reduces_anxiety = sum(map(lambda x : x== 'It reduces anxiety about financing basic' or x == 'It reduces anxiety about financing basic needs', arguments_cleaned))\n",
    "reduces_boreaucracy_expenses = sum(map(lambda x : x== 'It reduces bureaucracy and administrative' or x == 'It reduces bureaucracy and administrative expenses', arguments_cleaned))\n",
    "none_of_above = sum(map(lambda x: x == 'None of the above', arguments_cleaned))"
   ]
  },
  {
   "cell_type": "code",
   "execution_count": 57,
   "metadata": {},
   "outputs": [],
   "source": [
    "#number_of_votes = pd.DataFrame(votes, columns = ['Number of pro arguments', 'Number of cons arguments']\n",
    "#votes = [['In favor', number_pro_arguments], ['Against': Y]]"
   ]
  },
  {
   "cell_type": "code",
   "execution_count": 70,
   "metadata": {},
   "outputs": [],
   "source": [
    "number_pro_favor_votes = more_equality + financial_independence + household_appreciation + solidarity + reduces_anxiety + reduces_boreaucracy_expenses\n",
    "number_pro_against_votes = none_of_above"
   ]
  },
  {
   "cell_type": "code",
   "execution_count": 71,
   "metadata": {},
   "outputs": [],
   "source": [
    "#Q5: hacemos todo el proceso de nuevo"
   ]
  },
  {
   "cell_type": "code",
   "execution_count": 72,
   "metadata": {},
   "outputs": [],
   "source": [
    "arguments_against = [info for info in df_complete['Q5: arguments against']]\n",
    "arguments_against_together = ' '.join(arguments_against)\n",
    "arguments_against_split_mayus = re.findall('[A-Z][^A-Z]*', arguments_against_together)\n",
    "arguments_against_without_verticalbar = [re.sub('\\ \\| +', '', x) for x in arguments_against_split_mayus]\n",
    "arguments_against_cleaned = [re.sub(' [^ ]*$', '', x) for x in arguments_against_without_verticalbar]\n",
    "arguments_against_cleaned_set = set(arguments_against_cleaned)"
   ]
  },
  {
   "cell_type": "code",
   "execution_count": 73,
   "metadata": {},
   "outputs": [
    {
     "data": {
      "text/plain": [
       "{'Foreigners might come to my country and take advantage of the',\n",
       " 'Foreigners might come to my country and take advantage of the benefit',\n",
       " 'It increases dependence on the',\n",
       " 'It increases dependence on the state',\n",
       " 'It is against the principle of linking merit and',\n",
       " 'It is against the principle of linking merit and reward',\n",
       " 'It is impossible to',\n",
       " 'It is impossible to finance',\n",
       " 'It might encourage people to stop',\n",
       " 'It might encourage people to stop working',\n",
       " 'None of the above',\n",
       " 'Only the people who need it most should get something from the',\n",
       " 'Only the people who need it most should get something from the state'}"
      ]
     },
     "execution_count": 73,
     "metadata": {},
     "output_type": "execute_result"
    }
   ],
   "source": [
    "arguments_against_cleaned_set"
   ]
  },
  {
   "cell_type": "code",
   "execution_count": 74,
   "metadata": {},
   "outputs": [],
   "source": [
    "foreigners = sum(map(lambda x : x=='Foreigners might come to my country and take advantage of the' or x=='Foreigners might come to my country and take advantage of the benefit', arguments_against_cleaned))\n",
    "state_dependence = sum(map(lambda x : x == 'It increases dependence on the' or x == 'It increases dependence on the state', arguments_against_cleaned))\n",
    "against_merit = sum(map(lambda x : x== 'It is against the principle of linking merit and' or x == 'It is against the principle of linking merit and reward', arguments_against_cleaned))\n",
    "impossible_finance = sum(map(lambda x : x== 'It is impossible to' or x == 'It is impossible to finance', arguments_against_cleaned))\n",
    "stop_working = sum(map(lambda x : x== 'It might encourage people to stop' or x == 'It might encourage people to stop working', arguments_against_cleaned))\n",
    "only_needed = sum(map(lambda x : x== 'Only the people who need it most should get something from the' or x == 'Only the people who need it most should get something from the state', arguments_against_cleaned))\n",
    "none_of_above_ag = sum(map(lambda x: x == 'None of the above', arguments_against_cleaned))"
   ]
  },
  {
   "cell_type": "code",
   "execution_count": 77,
   "metadata": {},
   "outputs": [],
   "source": [
    "number_cons_favor = foreigners + state_dependence + against_merit + impossible_finance + stop_working + only_needed\n",
    "number_cons_against = none_of_above_ag"
   ]
  },
  {
   "cell_type": "code",
   "execution_count": 78,
   "metadata": {},
   "outputs": [],
   "source": [
    "votes = [['In favor', number_pro_favor_votes, number_cons_favor], ['Against', number_pro_against_votes, number_cons_against]]\n",
    "number_of_votes = pd.DataFrame(votes, columns=['Position', 'Number of pro arguments', 'Number of cons arguments'])"
   ]
  },
  {
   "cell_type": "code",
   "execution_count": 79,
   "metadata": {},
   "outputs": [
    {
     "data": {
      "text/html": [
       "<div>\n",
       "<style scoped>\n",
       "    .dataframe tbody tr th:only-of-type {\n",
       "        vertical-align: middle;\n",
       "    }\n",
       "\n",
       "    .dataframe tbody tr th {\n",
       "        vertical-align: top;\n",
       "    }\n",
       "\n",
       "    .dataframe thead th {\n",
       "        text-align: right;\n",
       "    }\n",
       "</style>\n",
       "<table border=\"1\" class=\"dataframe\">\n",
       "  <thead>\n",
       "    <tr style=\"text-align: right;\">\n",
       "      <th></th>\n",
       "      <th>Position</th>\n",
       "      <th>Number of pro arguments</th>\n",
       "      <th>Number of cons arguments</th>\n",
       "    </tr>\n",
       "  </thead>\n",
       "  <tbody>\n",
       "    <tr>\n",
       "      <th>0</th>\n",
       "      <td>In favor</td>\n",
       "      <td>14571</td>\n",
       "      <td>18374</td>\n",
       "    </tr>\n",
       "    <tr>\n",
       "      <th>1</th>\n",
       "      <td>Against</td>\n",
       "      <td>2163</td>\n",
       "      <td>1381</td>\n",
       "    </tr>\n",
       "  </tbody>\n",
       "</table>\n",
       "</div>"
      ],
      "text/plain": [
       "   Position  Number of pro arguments  Number of cons arguments\n",
       "0  In favor                    14571                     18374\n",
       "1   Against                     2163                      1381"
      ]
     },
     "execution_count": 79,
     "metadata": {},
     "output_type": "execute_result"
    }
   ],
   "source": [
    "number_of_votes"
   ]
  },
  {
   "cell_type": "markdown",
   "metadata": {},
   "source": [
    "## BONUS 2"
   ]
  },
  {
   "cell_type": "code",
   "execution_count": 104,
   "metadata": {},
   "outputs": [],
   "source": [
    "unique_jobs = df_complete['Job Title'].unique()"
   ]
  },
  {
   "cell_type": "code",
   "execution_count": 163,
   "metadata": {},
   "outputs": [
    {
     "name": "stderr",
     "output_type": "stream",
     "text": [
      "IOPub data rate exceeded.\n",
      "The notebook server will temporarily stop sending output\n",
      "to the client in order to avoid crashing it.\n",
      "To change this limit, set the config variable\n",
      "`--NotebookApp.iopub_data_rate_limit`.\n",
      "\n",
      "Current values:\n",
      "NotebookApp.iopub_data_rate_limit=1000000.0 (bytes/sec)\n",
      "NotebookApp.rate_limit_window=3.0 (secs)\n",
      "\n"
     ]
    }
   ],
   "source": [
    "list_jobs_key = []\n",
    "list_skills_values = []\n",
    "\n",
    "for code in job_code_unique:\n",
    "    response_skills = requests.get(f'http://api.dataatwork.org/v1/jobs/{code}/related_skills').json()\n",
    "    if list(response_skills.keys())[0] == 'error':\n",
    "        pass\n",
    "    else:\n",
    "        list_jobs_key.append(response_skills['job_uuid'])\n",
    "        list_skills_values.append(response_skills['skills'])\n",
    "        \n",
    "        \n",
    "print(list_skills_values)"
   ]
  },
  {
   "cell_type": "code",
   "execution_count": 178,
   "metadata": {},
   "outputs": [],
   "source": [
    "dict_job_skills_title = dict(zip(list_jobs_key , list_skills_values))"
   ]
  },
  {
   "cell_type": "code",
   "execution_count": 181,
   "metadata": {},
   "outputs": [],
   "source": [
    "for k, v in dict_job_skills_title.items():\n",
    "    if type(v) == dict:\n",
    "        print(v)"
   ]
  },
  {
   "cell_type": "code",
   "execution_count": 133,
   "metadata": {},
   "outputs": [
    {
     "ename": "ValueError",
     "evalue": "cannot set using a multi-index selection indexer with a different length than the value",
     "output_type": "error",
     "traceback": [
      "\u001b[0;31m---------------------------------------------------------------------------\u001b[0m",
      "\u001b[0;31mValueError\u001b[0m                                Traceback (most recent call last)",
      "\u001b[0;32m<ipython-input-133-49d8f1251a76>\u001b[0m in \u001b[0;36m<module>\u001b[0;34m\u001b[0m\n\u001b[1;32m      2\u001b[0m \u001b[0;34m\u001b[0m\u001b[0m\n\u001b[1;32m      3\u001b[0m \u001b[0;32mfor\u001b[0m \u001b[0mjob_uuid\u001b[0m\u001b[0;34m,\u001b[0m \u001b[0mskills\u001b[0m \u001b[0;32min\u001b[0m \u001b[0mdict_job_skills_title\u001b[0m\u001b[0;34m.\u001b[0m\u001b[0mitems\u001b[0m\u001b[0;34m(\u001b[0m\u001b[0;34m)\u001b[0m\u001b[0;34m:\u001b[0m\u001b[0;34m\u001b[0m\u001b[0;34m\u001b[0m\u001b[0m\n\u001b[0;32m----> 4\u001b[0;31m     \u001b[0mdf_complete\u001b[0m\u001b[0;34m.\u001b[0m\u001b[0mloc\u001b[0m\u001b[0;34m[\u001b[0m\u001b[0mdf_complete\u001b[0m\u001b[0;34m[\u001b[0m\u001b[0;34m'Job Code'\u001b[0m\u001b[0;34m]\u001b[0m \u001b[0;34m==\u001b[0m \u001b[0mjob_uuid\u001b[0m \u001b[0;34m,\u001b[0m \u001b[0;34m'Skills'\u001b[0m\u001b[0;34m]\u001b[0m \u001b[0;34m=\u001b[0m \u001b[0mskills\u001b[0m\u001b[0;34m\u001b[0m\u001b[0;34m\u001b[0m\u001b[0m\n\u001b[0m",
      "\u001b[0;32m~/miniconda3/envs/ironhack_env/lib/python3.8/site-packages/pandas/core/indexing.py\u001b[0m in \u001b[0;36m__setitem__\u001b[0;34m(self, key, value)\u001b[0m\n\u001b[1;32m    668\u001b[0m \u001b[0;34m\u001b[0m\u001b[0m\n\u001b[1;32m    669\u001b[0m         \u001b[0miloc\u001b[0m \u001b[0;34m=\u001b[0m \u001b[0mself\u001b[0m \u001b[0;32mif\u001b[0m \u001b[0mself\u001b[0m\u001b[0;34m.\u001b[0m\u001b[0mname\u001b[0m \u001b[0;34m==\u001b[0m \u001b[0;34m\"iloc\"\u001b[0m \u001b[0;32melse\u001b[0m \u001b[0mself\u001b[0m\u001b[0;34m.\u001b[0m\u001b[0mobj\u001b[0m\u001b[0;34m.\u001b[0m\u001b[0miloc\u001b[0m\u001b[0;34m\u001b[0m\u001b[0;34m\u001b[0m\u001b[0m\n\u001b[0;32m--> 670\u001b[0;31m         \u001b[0miloc\u001b[0m\u001b[0;34m.\u001b[0m\u001b[0m_setitem_with_indexer\u001b[0m\u001b[0;34m(\u001b[0m\u001b[0mindexer\u001b[0m\u001b[0;34m,\u001b[0m \u001b[0mvalue\u001b[0m\u001b[0;34m)\u001b[0m\u001b[0;34m\u001b[0m\u001b[0;34m\u001b[0m\u001b[0m\n\u001b[0m\u001b[1;32m    671\u001b[0m \u001b[0;34m\u001b[0m\u001b[0m\n\u001b[1;32m    672\u001b[0m     \u001b[0;32mdef\u001b[0m \u001b[0m_validate_key\u001b[0m\u001b[0;34m(\u001b[0m\u001b[0mself\u001b[0m\u001b[0;34m,\u001b[0m \u001b[0mkey\u001b[0m\u001b[0;34m,\u001b[0m \u001b[0maxis\u001b[0m\u001b[0;34m:\u001b[0m \u001b[0mint\u001b[0m\u001b[0;34m)\u001b[0m\u001b[0;34m:\u001b[0m\u001b[0;34m\u001b[0m\u001b[0;34m\u001b[0m\u001b[0m\n",
      "\u001b[0;32m~/miniconda3/envs/ironhack_env/lib/python3.8/site-packages/pandas/core/indexing.py\u001b[0m in \u001b[0;36m_setitem_with_indexer\u001b[0;34m(self, indexer, value)\u001b[0m\n\u001b[1;32m   1664\u001b[0m                 \u001b[0;32mif\u001b[0m \u001b[0mis_list_like_indexer\u001b[0m\u001b[0;34m(\u001b[0m\u001b[0mvalue\u001b[0m\u001b[0;34m)\u001b[0m \u001b[0;32mand\u001b[0m \u001b[0;36m0\u001b[0m \u001b[0;34m!=\u001b[0m \u001b[0mlplane_indexer\u001b[0m \u001b[0;34m!=\u001b[0m \u001b[0mlen\u001b[0m\u001b[0;34m(\u001b[0m\u001b[0mvalue\u001b[0m\u001b[0;34m)\u001b[0m\u001b[0;34m:\u001b[0m\u001b[0;34m\u001b[0m\u001b[0;34m\u001b[0m\u001b[0m\n\u001b[1;32m   1665\u001b[0m                     \u001b[0;31m# Exclude zero-len for e.g. boolean masking that is all-false\u001b[0m\u001b[0;34m\u001b[0m\u001b[0;34m\u001b[0m\u001b[0;34m\u001b[0m\u001b[0m\n\u001b[0;32m-> 1666\u001b[0;31m                     raise ValueError(\n\u001b[0m\u001b[1;32m   1667\u001b[0m                         \u001b[0;34m\"cannot set using a multi-index \"\u001b[0m\u001b[0;34m\u001b[0m\u001b[0;34m\u001b[0m\u001b[0m\n\u001b[1;32m   1668\u001b[0m                         \u001b[0;34m\"selection indexer with a different \"\u001b[0m\u001b[0;34m\u001b[0m\u001b[0;34m\u001b[0m\u001b[0m\n",
      "\u001b[0;31mValueError\u001b[0m: cannot set using a multi-index selection indexer with a different length than the value"
     ]
    }
   ],
   "source": [
    "df_complete['Skills'] = df_complete['Job Code']\n",
    "\n",
    "for job_uuid, skills in dict_job_skills_title.items():\n",
    "    df_complete.loc[df_complete['Job Code'] == job_uuid , 'Skills'] = skills"
   ]
  },
  {
   "cell_type": "code",
   "execution_count": null,
   "metadata": {},
   "outputs": [],
   "source": [
    "# Necesito que el value sea directamente el nombre de las skills hechos una lista."
   ]
  }
 ],
 "metadata": {
  "kernelspec": {
   "display_name": "Python [conda env:ironhack_env]",
   "language": "python",
   "name": "conda-env-ironhack_env-py"
  },
  "language_info": {
   "codemirror_mode": {
    "name": "ipython",
    "version": 3
   },
   "file_extension": ".py",
   "mimetype": "text/x-python",
   "name": "python",
   "nbconvert_exporter": "python",
   "pygments_lexer": "ipython3",
   "version": "3.8.5"
  }
 },
 "nbformat": 4,
 "nbformat_minor": 4
}
